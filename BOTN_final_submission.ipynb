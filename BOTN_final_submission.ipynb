{
  "nbformat": 4,
  "nbformat_minor": 0,
  "metadata": {
    "colab": {
      "name": "BOTN final.ipynb",
      "version": "0.3.2",
      "provenance": [],
      "collapsed_sections": [],
      "toc_visible": true,
      "include_colab_link": true
    },
    "kernelspec": {
      "name": "python3",
      "display_name": "Python 3"
    }
  },
  "cells": [
    {
      "cell_type": "markdown",
      "metadata": {
        "id": "view-in-github",
        "colab_type": "text"
      },
      "source": [
        "<a href=\"https://colab.research.google.com/github/mayank-liv/Coursera_Capstone/blob/master/BOTN_final_submission.ipynb\" target=\"_parent\"><img src=\"https://colab.research.google.com/assets/colab-badge.svg\" alt=\"Open In Colab\"/></a>"
      ]
    },
    {
      "cell_type": "markdown",
      "metadata": {
        "id": "N81J03IntZIS",
        "colab_type": "text"
      },
      "source": [
        "# **1. Importing Libraries**"
      ]
    },
    {
      "cell_type": "code",
      "metadata": {
        "id": "KOxvGcR_hzUd",
        "colab_type": "code",
        "colab": {}
      },
      "source": [
        "#WE IMPORT ALL THE LIBRARIES WE'LL NEED, FIRST\n",
        "\n",
        "import matplotlib.pyplot as plt"
      ],
      "execution_count": 0,
      "outputs": []
    },
    {
      "cell_type": "code",
      "metadata": {
        "id": "KGDpt9wVh120",
        "colab_type": "code",
        "colab": {}
      },
      "source": [
        "#pandas and numpy will help work with our data in a dataframe\n",
        "import pandas as pd\n",
        "import numpy as np\n",
        " \n",
        "pd.set_option('display.max_columns',None)\n",
        "pd.set_option('display.max_rows', None)\n",
        "\n",
        "#folium is going to help us show our data in the map\n",
        "import folium\n",
        "\n",
        "#json will help us process the json files we get\n",
        "import json\n",
        "\n",
        "#this will help us get latitude and longitude coordinates of a place\n",
        "from geopy.geocoders import Nominatim\n",
        "\n",
        "import requests\n",
        "from pandas.io.json import json_normalize\n",
        "\n",
        "import matplotlib.cm as cm\n",
        "import matplotlib.colors as colors\n",
        "\n",
        "from sklearn.cluster import KMeans\n",
        "\n",
        "import json\n",
        "import requests\n",
        "from pandas.io.json import json_normalize"
      ],
      "execution_count": 0,
      "outputs": []
    },
    {
      "cell_type": "code",
      "metadata": {
        "id": "9vImuvCEh4-2",
        "colab_type": "code",
        "outputId": "406d12f1-6f4c-4294-ad25-a719e753025b",
        "colab": {
          "base_uri": "https://localhost:8080/",
          "height": 50
        }
      },
      "source": [
        "import folium\n",
        "from folium.plugins import MarkerCluster\n",
        "from folium.plugins import FastMarkerCluster\n",
        "from folium import plugins\n",
        "\n",
        "from bs4 import BeautifulSoup\n",
        "\n",
        "# Module to convert an address into latitude and longitude values\n",
        "from geopy.geocoders import Nominatim\n",
        "\n",
        "!conda install -c conda-forge geopy --yes \n",
        "from geopy.geocoders import Nominatim # module to convert an address into latitude and longitude values\n",
        "\n",
        "# libraries for displaying images\n",
        "from IPython.display import Image \n",
        "from IPython.core.display import HTML \n",
        "    \n",
        "# tranforming json file into a pandas dataframe library\n",
        "from pandas.io.json import json_normalize\n",
        "\n",
        "!conda install -c conda-forge folium=0.5.0 --yes\n",
        "import folium # plotting library"
      ],
      "execution_count": 76,
      "outputs": [
        {
          "output_type": "stream",
          "text": [
            "/bin/bash: conda: command not found\n",
            "/bin/bash: conda: command not found\n"
          ],
          "name": "stdout"
        }
      ]
    },
    {
      "cell_type": "markdown",
      "metadata": {
        "id": "1u857XbWtmK-",
        "colab_type": "text"
      },
      "source": [
        "# **2. Importing data, and cleaning it**"
      ]
    },
    {
      "cell_type": "code",
      "metadata": {
        "id": "Qo1oF9QUlrEc",
        "colab_type": "code",
        "outputId": "143569a8-c5aa-40c4-9f18-32ee82f81f00",
        "colab": {
          "base_uri": "https://localhost:8080/",
          "height": 202
        }
      },
      "source": [
        "#import the crime dataset\n",
        "\n",
        "cnames=['ARREST_KEY','ARREST_DATE','PD_DESC','OFNS_DESC','ARREST_BORO', 'Latitude', 'Longitude'] #we only need these columns\n",
        "\n",
        "!wget -O crimes.csv https://data.cityofnewyork.us/resource/8h9b-rp9u.json\n",
        "\n",
        "\n"
      ],
      "execution_count": 80,
      "outputs": [
        {
          "output_type": "stream",
          "text": [
            "--2019-06-22 12:40:08--  https://data.cityofnewyork.us/resource/8h9b-rp9u.json\n",
            "Resolving data.cityofnewyork.us (data.cityofnewyork.us)... 52.206.140.199, 52.206.68.26, 52.206.140.205\n",
            "Connecting to data.cityofnewyork.us (data.cityofnewyork.us)|52.206.140.199|:443... connected.\n",
            "HTTP request sent, awaiting response... 200 OK\n",
            "Length: unspecified [application/json]\n",
            "Saving to: ‘crimes.csv’\n",
            "\n",
            "\rcrimes.csv              [<=>                 ]       0  --.-KB/s               \rcrimes.csv              [ <=>                ] 390.86K  1.54MB/s               \rcrimes.csv              [  <=>               ] 445.30K  1.75MB/s    in 0.2s    \n",
            "\n",
            "2019-06-22 12:40:09 (1.75 MB/s) - ‘crimes.csv’ saved [455990]\n",
            "\n"
          ],
          "name": "stdout"
        }
      ]
    },
    {
      "cell_type": "code",
      "metadata": {
        "id": "TuR9Tm3bA_0x",
        "colab_type": "code",
        "colab": {}
      },
      "source": [
        "df=pd.read_csv('https://data.cityofnewyork.us/api/views/8h9b-rp9u/rows.csv?accessType=DOWNLOAD', usecols=cnames)"
      ],
      "execution_count": 0,
      "outputs": []
    },
    {
      "cell_type": "code",
      "metadata": {
        "id": "gC3KgklxBBak",
        "colab_type": "code",
        "outputId": "afc15136-00bd-4b70-d16e-100c4d4d31ce",
        "colab": {
          "base_uri": "https://localhost:8080/",
          "height": 34
        }
      },
      "source": [
        "df.shape"
      ],
      "execution_count": 82,
      "outputs": [
        {
          "output_type": "execute_result",
          "data": {
            "text/plain": [
              "(4798339, 7)"
            ]
          },
          "metadata": {
            "tags": []
          },
          "execution_count": 82
        }
      ]
    },
    {
      "cell_type": "code",
      "metadata": {
        "id": "qR2zIwOhBDx7",
        "colab_type": "code",
        "outputId": "d11df552-5fb6-4359-c9e6-2c8747fdc258",
        "colab": {
          "base_uri": "https://localhost:8080/",
          "height": 195
        }
      },
      "source": [
        "df.head()"
      ],
      "execution_count": 30,
      "outputs": [
        {
          "output_type": "execute_result",
          "data": {
            "text/html": [
              "<div>\n",
              "<style scoped>\n",
              "    .dataframe tbody tr th:only-of-type {\n",
              "        vertical-align: middle;\n",
              "    }\n",
              "\n",
              "    .dataframe tbody tr th {\n",
              "        vertical-align: top;\n",
              "    }\n",
              "\n",
              "    .dataframe thead th {\n",
              "        text-align: right;\n",
              "    }\n",
              "</style>\n",
              "<table border=\"1\" class=\"dataframe\">\n",
              "  <thead>\n",
              "    <tr style=\"text-align: right;\">\n",
              "      <th></th>\n",
              "      <th>ARREST_KEY</th>\n",
              "      <th>ARREST_DATE</th>\n",
              "      <th>PD_DESC</th>\n",
              "      <th>OFNS_DESC</th>\n",
              "      <th>ARREST_BORO</th>\n",
              "      <th>Latitude</th>\n",
              "      <th>Longitude</th>\n",
              "    </tr>\n",
              "  </thead>\n",
              "  <tbody>\n",
              "    <tr>\n",
              "      <th>0</th>\n",
              "      <td>173130602</td>\n",
              "      <td>12/31/2017</td>\n",
              "      <td>MARIJUANA, POSSESSION</td>\n",
              "      <td>MISCELLANEOUS PENAL LAW</td>\n",
              "      <td>Q</td>\n",
              "      <td>40.735772</td>\n",
              "      <td>-73.715638</td>\n",
              "    </tr>\n",
              "    <tr>\n",
              "      <th>1</th>\n",
              "      <td>173114463</td>\n",
              "      <td>12/31/2017</td>\n",
              "      <td>THEFT OF SERVICES, UNCLASSIFIED</td>\n",
              "      <td>OTHER OFFENSES RELATED TO THEFT</td>\n",
              "      <td>Q</td>\n",
              "      <td>40.769437</td>\n",
              "      <td>-73.910241</td>\n",
              "    </tr>\n",
              "    <tr>\n",
              "      <th>2</th>\n",
              "      <td>173113513</td>\n",
              "      <td>12/31/2017</td>\n",
              "      <td>NY STATE LAWS,UNCLASSIFIED VIOLATION</td>\n",
              "      <td>OTHER STATE LAWS</td>\n",
              "      <td>K</td>\n",
              "      <td>40.679525</td>\n",
              "      <td>-73.904572</td>\n",
              "    </tr>\n",
              "    <tr>\n",
              "      <th>3</th>\n",
              "      <td>173113423</td>\n",
              "      <td>12/31/2017</td>\n",
              "      <td>ASSAULT 3</td>\n",
              "      <td>ASSAULT 3 &amp; RELATED OFFENSES</td>\n",
              "      <td>M</td>\n",
              "      <td>40.763523</td>\n",
              "      <td>-73.987074</td>\n",
              "    </tr>\n",
              "    <tr>\n",
              "      <th>4</th>\n",
              "      <td>173113421</td>\n",
              "      <td>12/31/2017</td>\n",
              "      <td>ASSAULT 3</td>\n",
              "      <td>ASSAULT 3 &amp; RELATED OFFENSES</td>\n",
              "      <td>M</td>\n",
              "      <td>40.759768</td>\n",
              "      <td>-73.989811</td>\n",
              "    </tr>\n",
              "  </tbody>\n",
              "</table>\n",
              "</div>"
            ],
            "text/plain": [
              "   ARREST_KEY ARREST_DATE                               PD_DESC  \\\n",
              "0   173130602  12/31/2017                 MARIJUANA, POSSESSION   \n",
              "1   173114463  12/31/2017       THEFT OF SERVICES, UNCLASSIFIED   \n",
              "2   173113513  12/31/2017  NY STATE LAWS,UNCLASSIFIED VIOLATION   \n",
              "3   173113423  12/31/2017                             ASSAULT 3   \n",
              "4   173113421  12/31/2017                             ASSAULT 3   \n",
              "\n",
              "                         OFNS_DESC ARREST_BORO   Latitude  Longitude  \n",
              "0          MISCELLANEOUS PENAL LAW           Q  40.735772 -73.715638  \n",
              "1  OTHER OFFENSES RELATED TO THEFT           Q  40.769437 -73.910241  \n",
              "2                 OTHER STATE LAWS           K  40.679525 -73.904572  \n",
              "3     ASSAULT 3 & RELATED OFFENSES           M  40.763523 -73.987074  \n",
              "4     ASSAULT 3 & RELATED OFFENSES           M  40.759768 -73.989811  "
            ]
          },
          "metadata": {
            "tags": []
          },
          "execution_count": 30
        }
      ]
    },
    {
      "cell_type": "code",
      "metadata": {
        "id": "iXTwmhFD_Yp2",
        "colab_type": "code",
        "colab": {}
      },
      "source": [
        "#ARREST_BORO had only initials of the borough names. We changed that back to the full names\n",
        "\n",
        "dd=df.replace({'ARREST_BORO': {'B':'Bronx', 'S':'Staten Island', 'K':'Brooklyn', 'M':'Manhattan', 'Q':'Queens'}})"
      ],
      "execution_count": 0,
      "outputs": []
    },
    {
      "cell_type": "code",
      "metadata": {
        "id": "N1YCzD4HBzTV",
        "colab_type": "code",
        "outputId": "9a293cab-3250-4a2b-d956-69356c6a6b64",
        "colab": {
          "base_uri": "https://localhost:8080/",
          "height": 343
        }
      },
      "source": [
        "#this dataframe has the data of all crime records in NYC over the last 10 years\n",
        "\n",
        "dd.head(10)\n"
      ],
      "execution_count": 32,
      "outputs": [
        {
          "output_type": "execute_result",
          "data": {
            "text/html": [
              "<div>\n",
              "<style scoped>\n",
              "    .dataframe tbody tr th:only-of-type {\n",
              "        vertical-align: middle;\n",
              "    }\n",
              "\n",
              "    .dataframe tbody tr th {\n",
              "        vertical-align: top;\n",
              "    }\n",
              "\n",
              "    .dataframe thead th {\n",
              "        text-align: right;\n",
              "    }\n",
              "</style>\n",
              "<table border=\"1\" class=\"dataframe\">\n",
              "  <thead>\n",
              "    <tr style=\"text-align: right;\">\n",
              "      <th></th>\n",
              "      <th>ARREST_KEY</th>\n",
              "      <th>ARREST_DATE</th>\n",
              "      <th>PD_DESC</th>\n",
              "      <th>OFNS_DESC</th>\n",
              "      <th>ARREST_BORO</th>\n",
              "      <th>Latitude</th>\n",
              "      <th>Longitude</th>\n",
              "    </tr>\n",
              "  </thead>\n",
              "  <tbody>\n",
              "    <tr>\n",
              "      <th>0</th>\n",
              "      <td>173130602</td>\n",
              "      <td>12/31/2017</td>\n",
              "      <td>MARIJUANA, POSSESSION</td>\n",
              "      <td>MISCELLANEOUS PENAL LAW</td>\n",
              "      <td>Queens</td>\n",
              "      <td>40.735772</td>\n",
              "      <td>-73.715638</td>\n",
              "    </tr>\n",
              "    <tr>\n",
              "      <th>1</th>\n",
              "      <td>173114463</td>\n",
              "      <td>12/31/2017</td>\n",
              "      <td>THEFT OF SERVICES, UNCLASSIFIED</td>\n",
              "      <td>OTHER OFFENSES RELATED TO THEFT</td>\n",
              "      <td>Queens</td>\n",
              "      <td>40.769437</td>\n",
              "      <td>-73.910241</td>\n",
              "    </tr>\n",
              "    <tr>\n",
              "      <th>2</th>\n",
              "      <td>173113513</td>\n",
              "      <td>12/31/2017</td>\n",
              "      <td>NY STATE LAWS,UNCLASSIFIED VIOLATION</td>\n",
              "      <td>OTHER STATE LAWS</td>\n",
              "      <td>Brooklyn</td>\n",
              "      <td>40.679525</td>\n",
              "      <td>-73.904572</td>\n",
              "    </tr>\n",
              "    <tr>\n",
              "      <th>3</th>\n",
              "      <td>173113423</td>\n",
              "      <td>12/31/2017</td>\n",
              "      <td>ASSAULT 3</td>\n",
              "      <td>ASSAULT 3 &amp; RELATED OFFENSES</td>\n",
              "      <td>Manhattan</td>\n",
              "      <td>40.763523</td>\n",
              "      <td>-73.987074</td>\n",
              "    </tr>\n",
              "    <tr>\n",
              "      <th>4</th>\n",
              "      <td>173113421</td>\n",
              "      <td>12/31/2017</td>\n",
              "      <td>ASSAULT 3</td>\n",
              "      <td>ASSAULT 3 &amp; RELATED OFFENSES</td>\n",
              "      <td>Manhattan</td>\n",
              "      <td>40.759768</td>\n",
              "      <td>-73.989811</td>\n",
              "    </tr>\n",
              "    <tr>\n",
              "      <th>5</th>\n",
              "      <td>173130583</td>\n",
              "      <td>12/31/2017</td>\n",
              "      <td>ROBBERY,UNCLASSIFIED,OPEN AREAS</td>\n",
              "      <td>ROBBERY</td>\n",
              "      <td>Brooklyn</td>\n",
              "      <td>40.684194</td>\n",
              "      <td>-73.916085</td>\n",
              "    </tr>\n",
              "    <tr>\n",
              "      <th>6</th>\n",
              "      <td>173129349</td>\n",
              "      <td>12/31/2017</td>\n",
              "      <td>ASSAULT 3</td>\n",
              "      <td>ASSAULT 3 &amp; RELATED OFFENSES</td>\n",
              "      <td>Manhattan</td>\n",
              "      <td>40.722199</td>\n",
              "      <td>-73.977122</td>\n",
              "    </tr>\n",
              "    <tr>\n",
              "      <th>7</th>\n",
              "      <td>173128438</td>\n",
              "      <td>12/31/2017</td>\n",
              "      <td>CONTROLLED SUBSTANCE, POSSESSION 7</td>\n",
              "      <td>DANGEROUS DRUGS</td>\n",
              "      <td>Manhattan</td>\n",
              "      <td>40.799683</td>\n",
              "      <td>-73.944112</td>\n",
              "    </tr>\n",
              "    <tr>\n",
              "      <th>8</th>\n",
              "      <td>173128437</td>\n",
              "      <td>12/31/2017</td>\n",
              "      <td>ASSAULT 3</td>\n",
              "      <td>ASSAULT 3 &amp; RELATED OFFENSES</td>\n",
              "      <td>Manhattan</td>\n",
              "      <td>40.787496</td>\n",
              "      <td>-73.949752</td>\n",
              "    </tr>\n",
              "    <tr>\n",
              "      <th>9</th>\n",
              "      <td>173128433</td>\n",
              "      <td>12/31/2017</td>\n",
              "      <td>FORGERY,ETC.-MISD.</td>\n",
              "      <td>OFFENSES INVOLVING FRAUD</td>\n",
              "      <td>Manhattan</td>\n",
              "      <td>40.750107</td>\n",
              "      <td>-73.974936</td>\n",
              "    </tr>\n",
              "  </tbody>\n",
              "</table>\n",
              "</div>"
            ],
            "text/plain": [
              "   ARREST_KEY ARREST_DATE                               PD_DESC  \\\n",
              "0   173130602  12/31/2017                 MARIJUANA, POSSESSION   \n",
              "1   173114463  12/31/2017       THEFT OF SERVICES, UNCLASSIFIED   \n",
              "2   173113513  12/31/2017  NY STATE LAWS,UNCLASSIFIED VIOLATION   \n",
              "3   173113423  12/31/2017                             ASSAULT 3   \n",
              "4   173113421  12/31/2017                             ASSAULT 3   \n",
              "5   173130583  12/31/2017       ROBBERY,UNCLASSIFIED,OPEN AREAS   \n",
              "6   173129349  12/31/2017                             ASSAULT 3   \n",
              "7   173128438  12/31/2017    CONTROLLED SUBSTANCE, POSSESSION 7   \n",
              "8   173128437  12/31/2017                             ASSAULT 3   \n",
              "9   173128433  12/31/2017                    FORGERY,ETC.-MISD.   \n",
              "\n",
              "                         OFNS_DESC ARREST_BORO   Latitude  Longitude  \n",
              "0          MISCELLANEOUS PENAL LAW      Queens  40.735772 -73.715638  \n",
              "1  OTHER OFFENSES RELATED TO THEFT      Queens  40.769437 -73.910241  \n",
              "2                 OTHER STATE LAWS    Brooklyn  40.679525 -73.904572  \n",
              "3     ASSAULT 3 & RELATED OFFENSES   Manhattan  40.763523 -73.987074  \n",
              "4     ASSAULT 3 & RELATED OFFENSES   Manhattan  40.759768 -73.989811  \n",
              "5                          ROBBERY    Brooklyn  40.684194 -73.916085  \n",
              "6     ASSAULT 3 & RELATED OFFENSES   Manhattan  40.722199 -73.977122  \n",
              "7                  DANGEROUS DRUGS   Manhattan  40.799683 -73.944112  \n",
              "8     ASSAULT 3 & RELATED OFFENSES   Manhattan  40.787496 -73.949752  \n",
              "9         OFFENSES INVOLVING FRAUD   Manhattan  40.750107 -73.974936  "
            ]
          },
          "metadata": {
            "tags": []
          },
          "execution_count": 32
        }
      ]
    },
    {
      "cell_type": "code",
      "metadata": {
        "id": "dk6LLAuYB5Sc",
        "colab_type": "code",
        "outputId": "d538fd3f-fc10-41b6-a76f-d323cb75506c",
        "colab": {
          "base_uri": "https://localhost:8080/",
          "height": 151
        }
      },
      "source": [
        "dd.dtypes   #helps us find the types of data"
      ],
      "execution_count": 33,
      "outputs": [
        {
          "output_type": "execute_result",
          "data": {
            "text/plain": [
              "ARREST_KEY       int64\n",
              "ARREST_DATE     object\n",
              "PD_DESC         object\n",
              "OFNS_DESC       object\n",
              "ARREST_BORO     object\n",
              "Latitude       float64\n",
              "Longitude      float64\n",
              "dtype: object"
            ]
          },
          "metadata": {
            "tags": []
          },
          "execution_count": 33
        }
      ]
    },
    {
      "cell_type": "code",
      "metadata": {
        "id": "7C7MkaRIB_nn",
        "colab_type": "code",
        "outputId": "8408c5dc-1156-4d39-8ab4-a18551ce8e31",
        "colab": {
          "base_uri": "https://localhost:8080/",
          "height": 151
        }
      },
      "source": [
        "dd.isna().sum()   #we find if there's any missing data"
      ],
      "execution_count": 34,
      "outputs": [
        {
          "output_type": "execute_result",
          "data": {
            "text/plain": [
              "ARREST_KEY        0\n",
              "ARREST_DATE       0\n",
              "PD_DESC        8870\n",
              "OFNS_DESC      8870\n",
              "ARREST_BORO       8\n",
              "Latitude          1\n",
              "Longitude         1\n",
              "dtype: int64"
            ]
          },
          "metadata": {
            "tags": []
          },
          "execution_count": 34
        }
      ]
    },
    {
      "cell_type": "code",
      "metadata": {
        "id": "0mXauGcYCb9W",
        "colab_type": "code",
        "outputId": "7afa6ada-7fd2-430e-a0d5-0fbdb28579af",
        "colab": {
          "base_uri": "https://localhost:8080/",
          "height": 195
        }
      },
      "source": [
        "#cleaning the dataframe\n",
        "\n",
        "dd.dropna(inplace=True)\n",
        "\n",
        "dd.reindex()\n",
        "\n",
        "dd.head()"
      ],
      "execution_count": 84,
      "outputs": [
        {
          "output_type": "execute_result",
          "data": {
            "text/html": [
              "<div>\n",
              "<style scoped>\n",
              "    .dataframe tbody tr th:only-of-type {\n",
              "        vertical-align: middle;\n",
              "    }\n",
              "\n",
              "    .dataframe tbody tr th {\n",
              "        vertical-align: top;\n",
              "    }\n",
              "\n",
              "    .dataframe thead th {\n",
              "        text-align: right;\n",
              "    }\n",
              "</style>\n",
              "<table border=\"1\" class=\"dataframe\">\n",
              "  <thead>\n",
              "    <tr style=\"text-align: right;\">\n",
              "      <th></th>\n",
              "      <th>ARREST_KEY</th>\n",
              "      <th>ARREST_DATE</th>\n",
              "      <th>PD_DESC</th>\n",
              "      <th>OFNS_DESC</th>\n",
              "      <th>ARREST_BORO</th>\n",
              "      <th>Latitude</th>\n",
              "      <th>Longitude</th>\n",
              "    </tr>\n",
              "  </thead>\n",
              "  <tbody>\n",
              "    <tr>\n",
              "      <th>0</th>\n",
              "      <td>173130602</td>\n",
              "      <td>12/31/2017</td>\n",
              "      <td>MARIJUANA, POSSESSION</td>\n",
              "      <td>MISCELLANEOUS PENAL LAW</td>\n",
              "      <td>Queens</td>\n",
              "      <td>40.735772</td>\n",
              "      <td>-73.715638</td>\n",
              "    </tr>\n",
              "    <tr>\n",
              "      <th>1</th>\n",
              "      <td>173114463</td>\n",
              "      <td>12/31/2017</td>\n",
              "      <td>THEFT OF SERVICES, UNCLASSIFIED</td>\n",
              "      <td>OTHER OFFENSES RELATED TO THEFT</td>\n",
              "      <td>Queens</td>\n",
              "      <td>40.769437</td>\n",
              "      <td>-73.910241</td>\n",
              "    </tr>\n",
              "    <tr>\n",
              "      <th>2</th>\n",
              "      <td>173113513</td>\n",
              "      <td>12/31/2017</td>\n",
              "      <td>NY STATE LAWS,UNCLASSIFIED VIOLATION</td>\n",
              "      <td>OTHER STATE LAWS</td>\n",
              "      <td>Brooklyn</td>\n",
              "      <td>40.679525</td>\n",
              "      <td>-73.904572</td>\n",
              "    </tr>\n",
              "    <tr>\n",
              "      <th>3</th>\n",
              "      <td>173113423</td>\n",
              "      <td>12/31/2017</td>\n",
              "      <td>ASSAULT 3</td>\n",
              "      <td>ASSAULT 3 &amp; RELATED OFFENSES</td>\n",
              "      <td>Manhattan</td>\n",
              "      <td>40.763523</td>\n",
              "      <td>-73.987074</td>\n",
              "    </tr>\n",
              "    <tr>\n",
              "      <th>4</th>\n",
              "      <td>173113421</td>\n",
              "      <td>12/31/2017</td>\n",
              "      <td>ASSAULT 3</td>\n",
              "      <td>ASSAULT 3 &amp; RELATED OFFENSES</td>\n",
              "      <td>Manhattan</td>\n",
              "      <td>40.759768</td>\n",
              "      <td>-73.989811</td>\n",
              "    </tr>\n",
              "  </tbody>\n",
              "</table>\n",
              "</div>"
            ],
            "text/plain": [
              "   ARREST_KEY ARREST_DATE                               PD_DESC  \\\n",
              "0   173130602  12/31/2017                 MARIJUANA, POSSESSION   \n",
              "1   173114463  12/31/2017       THEFT OF SERVICES, UNCLASSIFIED   \n",
              "2   173113513  12/31/2017  NY STATE LAWS,UNCLASSIFIED VIOLATION   \n",
              "3   173113423  12/31/2017                             ASSAULT 3   \n",
              "4   173113421  12/31/2017                             ASSAULT 3   \n",
              "\n",
              "                         OFNS_DESC ARREST_BORO   Latitude  Longitude  \n",
              "0          MISCELLANEOUS PENAL LAW      Queens  40.735772 -73.715638  \n",
              "1  OTHER OFFENSES RELATED TO THEFT      Queens  40.769437 -73.910241  \n",
              "2                 OTHER STATE LAWS    Brooklyn  40.679525 -73.904572  \n",
              "3     ASSAULT 3 & RELATED OFFENSES   Manhattan  40.763523 -73.987074  \n",
              "4     ASSAULT 3 & RELATED OFFENSES   Manhattan  40.759768 -73.989811  "
            ]
          },
          "metadata": {
            "tags": []
          },
          "execution_count": 84
        }
      ]
    },
    {
      "cell_type": "code",
      "metadata": {
        "id": "zWvxzg_kCqg9",
        "colab_type": "code",
        "outputId": "c165d695-3246-4bfc-bf3f-efb167da8617",
        "colab": {
          "base_uri": "https://localhost:8080/",
          "height": 151
        }
      },
      "source": [
        "dd.isna().sum()"
      ],
      "execution_count": 85,
      "outputs": [
        {
          "output_type": "execute_result",
          "data": {
            "text/plain": [
              "ARREST_KEY     0\n",
              "ARREST_DATE    0\n",
              "PD_DESC        0\n",
              "OFNS_DESC      0\n",
              "ARREST_BORO    0\n",
              "Latitude       0\n",
              "Longitude      0\n",
              "dtype: int64"
            ]
          },
          "metadata": {
            "tags": []
          },
          "execution_count": 85
        }
      ]
    },
    {
      "cell_type": "code",
      "metadata": {
        "id": "cPh4AmQwDDrI",
        "colab_type": "code",
        "colab": {}
      },
      "source": [
        "#convert the object type column into a format we prefer\n",
        "\n",
        "dd['ARREST_DATE'] =  pd.to_datetime(dd['ARREST_DATE'], format='%m/%d/%Y')"
      ],
      "execution_count": 0,
      "outputs": []
    },
    {
      "cell_type": "code",
      "metadata": {
        "id": "Hb8APh2ODzG6",
        "colab_type": "code",
        "outputId": "ac82c607-9f58-40ec-f901-ad064c8cdbf6",
        "colab": {
          "base_uri": "https://localhost:8080/",
          "height": 195
        }
      },
      "source": [
        "dd.head()"
      ],
      "execution_count": 38,
      "outputs": [
        {
          "output_type": "execute_result",
          "data": {
            "text/html": [
              "<div>\n",
              "<style scoped>\n",
              "    .dataframe tbody tr th:only-of-type {\n",
              "        vertical-align: middle;\n",
              "    }\n",
              "\n",
              "    .dataframe tbody tr th {\n",
              "        vertical-align: top;\n",
              "    }\n",
              "\n",
              "    .dataframe thead th {\n",
              "        text-align: right;\n",
              "    }\n",
              "</style>\n",
              "<table border=\"1\" class=\"dataframe\">\n",
              "  <thead>\n",
              "    <tr style=\"text-align: right;\">\n",
              "      <th></th>\n",
              "      <th>ARREST_KEY</th>\n",
              "      <th>ARREST_DATE</th>\n",
              "      <th>PD_DESC</th>\n",
              "      <th>OFNS_DESC</th>\n",
              "      <th>ARREST_BORO</th>\n",
              "      <th>Latitude</th>\n",
              "      <th>Longitude</th>\n",
              "    </tr>\n",
              "  </thead>\n",
              "  <tbody>\n",
              "    <tr>\n",
              "      <th>0</th>\n",
              "      <td>173130602</td>\n",
              "      <td>2017-12-31</td>\n",
              "      <td>MARIJUANA, POSSESSION</td>\n",
              "      <td>MISCELLANEOUS PENAL LAW</td>\n",
              "      <td>Queens</td>\n",
              "      <td>40.735772</td>\n",
              "      <td>-73.715638</td>\n",
              "    </tr>\n",
              "    <tr>\n",
              "      <th>1</th>\n",
              "      <td>173114463</td>\n",
              "      <td>2017-12-31</td>\n",
              "      <td>THEFT OF SERVICES, UNCLASSIFIED</td>\n",
              "      <td>OTHER OFFENSES RELATED TO THEFT</td>\n",
              "      <td>Queens</td>\n",
              "      <td>40.769437</td>\n",
              "      <td>-73.910241</td>\n",
              "    </tr>\n",
              "    <tr>\n",
              "      <th>2</th>\n",
              "      <td>173113513</td>\n",
              "      <td>2017-12-31</td>\n",
              "      <td>NY STATE LAWS,UNCLASSIFIED VIOLATION</td>\n",
              "      <td>OTHER STATE LAWS</td>\n",
              "      <td>Brooklyn</td>\n",
              "      <td>40.679525</td>\n",
              "      <td>-73.904572</td>\n",
              "    </tr>\n",
              "    <tr>\n",
              "      <th>3</th>\n",
              "      <td>173113423</td>\n",
              "      <td>2017-12-31</td>\n",
              "      <td>ASSAULT 3</td>\n",
              "      <td>ASSAULT 3 &amp; RELATED OFFENSES</td>\n",
              "      <td>Manhattan</td>\n",
              "      <td>40.763523</td>\n",
              "      <td>-73.987074</td>\n",
              "    </tr>\n",
              "    <tr>\n",
              "      <th>4</th>\n",
              "      <td>173113421</td>\n",
              "      <td>2017-12-31</td>\n",
              "      <td>ASSAULT 3</td>\n",
              "      <td>ASSAULT 3 &amp; RELATED OFFENSES</td>\n",
              "      <td>Manhattan</td>\n",
              "      <td>40.759768</td>\n",
              "      <td>-73.989811</td>\n",
              "    </tr>\n",
              "  </tbody>\n",
              "</table>\n",
              "</div>"
            ],
            "text/plain": [
              "   ARREST_KEY ARREST_DATE                               PD_DESC  \\\n",
              "0   173130602  2017-12-31                 MARIJUANA, POSSESSION   \n",
              "1   173114463  2017-12-31       THEFT OF SERVICES, UNCLASSIFIED   \n",
              "2   173113513  2017-12-31  NY STATE LAWS,UNCLASSIFIED VIOLATION   \n",
              "3   173113423  2017-12-31                             ASSAULT 3   \n",
              "4   173113421  2017-12-31                             ASSAULT 3   \n",
              "\n",
              "                         OFNS_DESC ARREST_BORO   Latitude  Longitude  \n",
              "0          MISCELLANEOUS PENAL LAW      Queens  40.735772 -73.715638  \n",
              "1  OTHER OFFENSES RELATED TO THEFT      Queens  40.769437 -73.910241  \n",
              "2                 OTHER STATE LAWS    Brooklyn  40.679525 -73.904572  \n",
              "3     ASSAULT 3 & RELATED OFFENSES   Manhattan  40.763523 -73.987074  \n",
              "4     ASSAULT 3 & RELATED OFFENSES   Manhattan  40.759768 -73.989811  "
            ]
          },
          "metadata": {
            "tags": []
          },
          "execution_count": 38
        }
      ]
    },
    {
      "cell_type": "code",
      "metadata": {
        "id": "tm3uav-rD2kO",
        "colab_type": "code",
        "colab": {}
      },
      "source": [
        "#creating separate columns for Month, Day and Year\n",
        "\n",
        "\n",
        "dd['Name_of_day'] = dd['ARREST_DATE'].dt.day_name()\n",
        "dd['Day'] = dd['ARREST_DATE'].dt.dayofweek +1\n",
        "dd['Name_of_month'] = dd['ARREST_DATE'].dt.month_name()\n",
        "dd['Month'] = dd['ARREST_DATE'].dt.month\n",
        "dd['Year'] = dd['ARREST_DATE'].dt.year\n"
      ],
      "execution_count": 0,
      "outputs": []
    },
    {
      "cell_type": "code",
      "metadata": {
        "id": "QSqDcMWIFFFB",
        "colab_type": "code",
        "colab": {}
      },
      "source": [
        "dd.to_csv(\"crimes10yrs.csv\", index=False)"
      ],
      "execution_count": 0,
      "outputs": []
    },
    {
      "cell_type": "code",
      "metadata": {
        "id": "epJCiqW5FWiX",
        "colab_type": "code",
        "outputId": "d1c96e3d-6736-4822-a179-cfd764664898",
        "colab": {
          "base_uri": "https://localhost:8080/",
          "height": 235
        }
      },
      "source": [
        "dd.isna().sum()"
      ],
      "execution_count": 88,
      "outputs": [
        {
          "output_type": "execute_result",
          "data": {
            "text/plain": [
              "ARREST_KEY       0\n",
              "ARREST_DATE      0\n",
              "PD_DESC          0\n",
              "OFNS_DESC        0\n",
              "ARREST_BORO      0\n",
              "Latitude         0\n",
              "Longitude        0\n",
              "Name_of_day      0\n",
              "Day              0\n",
              "Name_of_month    0\n",
              "Month            0\n",
              "Year             0\n",
              "dtype: int64"
            ]
          },
          "metadata": {
            "tags": []
          },
          "execution_count": 88
        }
      ]
    },
    {
      "cell_type": "code",
      "metadata": {
        "id": "xAzmKYN_CGzS",
        "colab_type": "code",
        "outputId": "9128dd6a-c51c-4fd9-eb00-6520ba6381db",
        "colab": {
          "resources": {
            "http://localhost:8080/nbextensions/google.colab/files.js": {
              "data": "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",
              "ok": true,
              "headers": [
                [
                  "content-type",
                  "application/javascript"
                ]
              ],
              "status": 200,
              "status_text": ""
            }
          },
          "base_uri": "https://localhost:8080/",
          "height": 58
        }
      },
      "source": [
        "from google.colab import files\n",
        "\n",
        "files.upload()"
      ],
      "execution_count": 42,
      "outputs": [
        {
          "output_type": "display_data",
          "data": {
            "text/html": [
              "\n",
              "     <input type=\"file\" id=\"files-ad9e4b7a-46b8-4739-9c62-16d78ba4434c\" name=\"files[]\" multiple disabled />\n",
              "     <output id=\"result-ad9e4b7a-46b8-4739-9c62-16d78ba4434c\">\n",
              "      Upload widget is only available when the cell has been executed in the\n",
              "      current browser session. Please rerun this cell to enable.\n",
              "      </output>\n",
              "      <script src=\"/nbextensions/google.colab/files.js\"></script> "
            ],
            "text/plain": [
              "<IPython.core.display.HTML object>"
            ]
          },
          "metadata": {
            "tags": []
          }
        },
        {
          "output_type": "execute_result",
          "data": {
            "text/plain": [
              "{}"
            ]
          },
          "metadata": {
            "tags": []
          },
          "execution_count": 42
        }
      ]
    },
    {
      "cell_type": "code",
      "metadata": {
        "id": "skREwL_3GGKw",
        "colab_type": "code",
        "colab": {}
      },
      "source": [
        "#this dataset is for only 2017's record of crimes, and has the time parameter too. So we'll use it later to get the relation between time and crime\n",
        "\n",
        "col2=['CMPLNT_NUM', 'CMPLNT_FR_TM']\n",
        "\n",
        "df2=pd.read_csv('NYC_crime.csv', usecols=col2)"
      ],
      "execution_count": 0,
      "outputs": []
    },
    {
      "cell_type": "code",
      "metadata": {
        "id": "RfM2k19NGcPu",
        "colab_type": "code",
        "colab": {}
      },
      "source": [
        "df2['CMPLNT_FR_TM'] =  pd.to_datetime(df2['CMPLNT_FR_TM'], format='%H:%M:%S')"
      ],
      "execution_count": 0,
      "outputs": []
    },
    {
      "cell_type": "code",
      "metadata": {
        "id": "YKsG6y6nQaCp",
        "colab_type": "code",
        "colab": {}
      },
      "source": [
        "df2['hour'] = df2['CMPLNT_FR_TM'].dt.hour"
      ],
      "execution_count": 0,
      "outputs": []
    },
    {
      "cell_type": "code",
      "metadata": {
        "id": "5L9qr-RAQqxu",
        "colab_type": "code",
        "outputId": "f1ef84de-d026-4b5d-93f9-614775d1ad80",
        "colab": {
          "base_uri": "https://localhost:8080/",
          "height": 195
        }
      },
      "source": [
        "df2.head()"
      ],
      "execution_count": 46,
      "outputs": [
        {
          "output_type": "execute_result",
          "data": {
            "text/html": [
              "<div>\n",
              "<style scoped>\n",
              "    .dataframe tbody tr th:only-of-type {\n",
              "        vertical-align: middle;\n",
              "    }\n",
              "\n",
              "    .dataframe tbody tr th {\n",
              "        vertical-align: top;\n",
              "    }\n",
              "\n",
              "    .dataframe thead th {\n",
              "        text-align: right;\n",
              "    }\n",
              "</style>\n",
              "<table border=\"1\" class=\"dataframe\">\n",
              "  <thead>\n",
              "    <tr style=\"text-align: right;\">\n",
              "      <th></th>\n",
              "      <th>CMPLNT_NUM</th>\n",
              "      <th>CMPLNT_FR_TM</th>\n",
              "      <th>hour</th>\n",
              "    </tr>\n",
              "  </thead>\n",
              "  <tbody>\n",
              "    <tr>\n",
              "      <th>0</th>\n",
              "      <td>403250906</td>\n",
              "      <td>1900-01-01 00:01:00</td>\n",
              "      <td>0</td>\n",
              "    </tr>\n",
              "    <tr>\n",
              "      <th>1</th>\n",
              "      <td>235290134</td>\n",
              "      <td>1900-01-01 12:00:00</td>\n",
              "      <td>12</td>\n",
              "    </tr>\n",
              "    <tr>\n",
              "      <th>2</th>\n",
              "      <td>563999853</td>\n",
              "      <td>1900-01-01 20:40:00</td>\n",
              "      <td>20</td>\n",
              "    </tr>\n",
              "    <tr>\n",
              "      <th>3</th>\n",
              "      <td>877956688</td>\n",
              "      <td>1900-01-01 00:00:00</td>\n",
              "      <td>0</td>\n",
              "    </tr>\n",
              "    <tr>\n",
              "      <th>4</th>\n",
              "      <td>505910152</td>\n",
              "      <td>1900-01-01 20:11:00</td>\n",
              "      <td>20</td>\n",
              "    </tr>\n",
              "  </tbody>\n",
              "</table>\n",
              "</div>"
            ],
            "text/plain": [
              "   CMPLNT_NUM        CMPLNT_FR_TM  hour\n",
              "0   403250906 1900-01-01 00:01:00     0\n",
              "1   235290134 1900-01-01 12:00:00    12\n",
              "2   563999853 1900-01-01 20:40:00    20\n",
              "3   877956688 1900-01-01 00:00:00     0\n",
              "4   505910152 1900-01-01 20:11:00    20"
            ]
          },
          "metadata": {
            "tags": []
          },
          "execution_count": 46
        }
      ]
    },
    {
      "cell_type": "code",
      "metadata": {
        "id": "XQx3XV8N5HvL",
        "colab_type": "code",
        "colab": {}
      },
      "source": [
        "df2.to_csv(\"crimes1yr.csv\", index=False)"
      ],
      "execution_count": 0,
      "outputs": []
    },
    {
      "cell_type": "markdown",
      "metadata": {
        "id": "vcubFbN1vTYs",
        "colab_type": "text"
      },
      "source": [
        "# **3. Visualising the data in the form of charts**"
      ]
    },
    {
      "cell_type": "markdown",
      "metadata": {
        "id": "zX3AsiLYv9F6",
        "colab_type": "text"
      },
      "source": [
        "## a) **Month-wise spread of crimes**"
      ]
    },
    {
      "cell_type": "code",
      "metadata": {
        "id": "b5VYzoQGxTcx",
        "colab_type": "code",
        "outputId": "fedc1c82-2a27-425b-9906-abd3114dd547",
        "colab": {
          "base_uri": "https://localhost:8080/",
          "height": 483
        }
      },
      "source": [
        "#We group the crimes according to the months, and analyse the month-wise spread of data\n",
        "\n",
        "dd.groupby('Month').count().plot(y = 'ARREST_KEY', \n",
        "                                      kind='bar',\n",
        "                                      figsize=(13,7),\n",
        "                                      width=0.80,\n",
        "                                      fontsize=14,\n",
        "                                      colormap='tab20').legend(bbox_to_anchor=(1,1),\n",
        "                                                               prop={'size': 14})\n",
        "\n",
        "plt.xlabel('Month number', fontsize=18)\n",
        "plt.ylabel('No. of crimes', fontsize= 18)\n",
        "plt.title('Monthly distribution of crimes', loc='left', fontsize=24)\n",
        "\n",
        "plt.savefig('Fig1.png')"
      ],
      "execution_count": 48,
      "outputs": [
        {
          "output_type": "display_data",
          "data": {
            "image/png": "[encoded data removed]",
            "text/plain": [
              "<Figure size 936x504 with 1 Axes>"
            ]
          },
          "metadata": {
            "tags": []
          }
        }
      ]
    },
    {
      "cell_type": "markdown",
      "metadata": {
        "id": "zJG58ZwewipJ",
        "colab_type": "text"
      },
      "source": [
        "## **b) Day-wise spread of crimes**"
      ]
    },
    {
      "cell_type": "code",
      "metadata": {
        "id": "0RZMwsnV4NOI",
        "colab_type": "code",
        "outputId": "73b62016-b89b-4031-ceac-99170b57291d",
        "colab": {
          "base_uri": "https://localhost:8080/",
          "height": 474
        }
      },
      "source": [
        "#We group the crimes according to the day, and analyse the day-wise spread of data\n",
        "\n",
        "dd.groupby('Day').count().plot(y = 'ARREST_KEY', \n",
        "                                      kind='bar',\n",
        "                                      figsize=(13,7),\n",
        "                                      width=0.80,\n",
        "                                      fontsize=14,\n",
        "                                      colormap='tab20').legend(bbox_to_anchor=(1,1),\n",
        "                                                               prop={'size': 14})\n",
        "\n",
        "plt.xlabel('Day number', fontsize=18)\n",
        "plt.ylabel('No. of crimes', fontsize= 18)\n",
        "plt.title('Day-wise distribution of crimes [1 being Monday]', loc='left', fontsize=24)\n",
        "\n",
        "plt.savefig('Fig2.png')"
      ],
      "execution_count": 49,
      "outputs": [
        {
          "output_type": "display_data",
          "data": {
            "image/png": "[encoded data removed]",
            "text/plain": [
              "<Figure size 936x504 with 1 Axes>"
            ]
          },
          "metadata": {
            "tags": []
          }
        }
      ]
    },
    {
      "cell_type": "markdown",
      "metadata": {
        "id": "UCo_5g9HxlCB",
        "colab_type": "text"
      },
      "source": [
        "## **c) Hour-wise spread of crimes**"
      ]
    },
    {
      "cell_type": "code",
      "metadata": {
        "id": "eXSHrnD7QsCt",
        "colab_type": "code",
        "outputId": "9389296d-792e-4736-94da-e436b14e76fd",
        "colab": {
          "base_uri": "https://localhost:8080/",
          "height": 483
        }
      },
      "source": [
        "#We group the crimes according to the hours, and analyse the hour-wise spread of data\n",
        "\n",
        "df2.groupby('hour').count().plot(y = 'CMPLNT_NUM', \n",
        "                                      kind='bar',\n",
        "                                      figsize=(13,7),\n",
        "                                      width=0.80,\n",
        "                                      fontsize=14,\n",
        "                                      colormap='tab20').legend(bbox_to_anchor=(1,1),\n",
        "                                                               prop={'size': 14})\n",
        "\n",
        "plt.xlabel('Hour', fontsize=18)\n",
        "plt.ylabel('No. of crimes', fontsize= 18)\n",
        "plt.title('Hour-wise distribution of crimes', loc='left', fontsize=24)\n",
        "\n",
        "plt.savefig('Fig3.png')\n",
        "\n",
        "#the number of crimes here is drastically less than the previous two bar-charts, because this dataset is for 2017's worth of NYC crime records only"
      ],
      "execution_count": 50,
      "outputs": [
        {
          "output_type": "display_data",
          "data": {
            "image/png": "[encoded data removed]",
            "text/plain": [
              "<Figure size 936x504 with 1 Axes>"
            ]
          },
          "metadata": {
            "tags": []
          }
        }
      ]
    },
    {
      "cell_type": "markdown",
      "metadata": {
        "id": "pI0_wOh4yXmC",
        "colab_type": "text"
      },
      "source": [
        "### We now create two different datasets, 'df_top10'  having top 10 crimes data grou'ped together, and 'df_top3', having top 3 crimes' data grouped together"
      ]
    },
    {
      "cell_type": "code",
      "metadata": {
        "id": "xJc3UvjlQ8W9",
        "colab_type": "code",
        "outputId": "ea1004f0-7326-4c3d-d6ab-0991841ad9fd",
        "colab": {
          "base_uri": "https://localhost:8080/",
          "height": 343
        }
      },
      "source": [
        "dd[['PD_DESC', 'ARREST_KEY']].groupby(\n",
        "    ['PD_DESC'], as_index=False).count().sort_values(\n",
        "    'ARREST_KEY', ascending=False).head(10)"
      ],
      "execution_count": 51,
      "outputs": [
        {
          "output_type": "execute_result",
          "data": {
            "text/html": [
              "<div>\n",
              "<style scoped>\n",
              "    .dataframe tbody tr th:only-of-type {\n",
              "        vertical-align: middle;\n",
              "    }\n",
              "\n",
              "    .dataframe tbody tr th {\n",
              "        vertical-align: top;\n",
              "    }\n",
              "\n",
              "    .dataframe thead th {\n",
              "        text-align: right;\n",
              "    }\n",
              "</style>\n",
              "<table border=\"1\" class=\"dataframe\">\n",
              "  <thead>\n",
              "    <tr style=\"text-align: right;\">\n",
              "      <th></th>\n",
              "      <th>PD_DESC</th>\n",
              "      <th>ARREST_KEY</th>\n",
              "    </tr>\n",
              "  </thead>\n",
              "  <tbody>\n",
              "    <tr>\n",
              "      <th>182</th>\n",
              "      <td>MARIJUANA, POSSESSION 4 &amp; 5</td>\n",
              "      <td>422357</td>\n",
              "    </tr>\n",
              "    <tr>\n",
              "      <th>20</th>\n",
              "      <td>ASSAULT 3</td>\n",
              "      <td>376000</td>\n",
              "    </tr>\n",
              "    <tr>\n",
              "      <th>312</th>\n",
              "      <td>THEFT OF SERVICES, UNCLASSIFIED</td>\n",
              "      <td>303358</td>\n",
              "    </tr>\n",
              "    <tr>\n",
              "      <th>52</th>\n",
              "      <td>CONTROLLED SUBSTANCE, POSSESSION 7</td>\n",
              "      <td>278080</td>\n",
              "    </tr>\n",
              "    <tr>\n",
              "      <th>212</th>\n",
              "      <td>NY STATE LAWS,UNCLASSIFIED VIOLATION</td>\n",
              "      <td>225678</td>\n",
              "    </tr>\n",
              "    <tr>\n",
              "      <th>160</th>\n",
              "      <td>LARCENY,PETIT FROM OPEN AREAS,UNCLASSIFIED</td>\n",
              "      <td>188347</td>\n",
              "    </tr>\n",
              "    <tr>\n",
              "      <th>317</th>\n",
              "      <td>TRAFFIC,UNCLASSIFIED INFRACTION</td>\n",
              "      <td>165646</td>\n",
              "    </tr>\n",
              "    <tr>\n",
              "      <th>19</th>\n",
              "      <td>ASSAULT 2,1,UNCLASSIFIED</td>\n",
              "      <td>150823</td>\n",
              "    </tr>\n",
              "    <tr>\n",
              "      <th>300</th>\n",
              "      <td>STOLEN PROPERTY 3,POSSESSION</td>\n",
              "      <td>149876</td>\n",
              "    </tr>\n",
              "    <tr>\n",
              "      <th>277</th>\n",
              "      <td>ROBBERY,UNCLASSIFIED,OPEN AREAS</td>\n",
              "      <td>143263</td>\n",
              "    </tr>\n",
              "  </tbody>\n",
              "</table>\n",
              "</div>"
            ],
            "text/plain": [
              "                                        PD_DESC  ARREST_KEY\n",
              "182                 MARIJUANA, POSSESSION 4 & 5      422357\n",
              "20                                    ASSAULT 3      376000\n",
              "312             THEFT OF SERVICES, UNCLASSIFIED      303358\n",
              "52           CONTROLLED SUBSTANCE, POSSESSION 7      278080\n",
              "212        NY STATE LAWS,UNCLASSIFIED VIOLATION      225678\n",
              "160  LARCENY,PETIT FROM OPEN AREAS,UNCLASSIFIED      188347\n",
              "317             TRAFFIC,UNCLASSIFIED INFRACTION      165646\n",
              "19                     ASSAULT 2,1,UNCLASSIFIED      150823\n",
              "300                STOLEN PROPERTY 3,POSSESSION      149876\n",
              "277             ROBBERY,UNCLASSIFIED,OPEN AREAS      143263"
            ]
          },
          "metadata": {
            "tags": []
          },
          "execution_count": 51
        }
      ]
    },
    {
      "cell_type": "code",
      "metadata": {
        "id": "uV7iIZeXR3_K",
        "colab_type": "code",
        "colab": {}
      },
      "source": [
        "#we create dataframes of top 10, and top 3 crimes respectively\n",
        "\n",
        "top10 = dd[['PD_DESC', 'ARREST_KEY']].groupby(\n",
        "    ['PD_DESC']).count().sort_values('ARREST_KEY', ascending=False)[:10].axes[0].tolist()\n",
        "\n",
        "\n",
        "top3 = dd[['PD_DESC', 'ARREST_KEY']].groupby(\n",
        "    ['PD_DESC']).count().sort_values('ARREST_KEY', ascending=False)[:3].axes[0].tolist()\n",
        "\n",
        "df_top10 = dd[dd['PD_DESC'].isin(top10)].copy()\n",
        "\n",
        "df_top3 = dd[dd['PD_DESC'].isin(top3)].copy()"
      ],
      "execution_count": 0,
      "outputs": []
    },
    {
      "cell_type": "code",
      "metadata": {
        "id": "OXtvusxScJhW",
        "colab_type": "code",
        "outputId": "b9a27e25-0c32-4966-e2f9-95dba58153c4",
        "colab": {
          "base_uri": "https://localhost:8080/",
          "height": 417
        }
      },
      "source": [
        "df_top10.head()"
      ],
      "execution_count": 53,
      "outputs": [
        {
          "output_type": "execute_result",
          "data": {
            "text/html": [
              "<div>\n",
              "<style scoped>\n",
              "    .dataframe tbody tr th:only-of-type {\n",
              "        vertical-align: middle;\n",
              "    }\n",
              "\n",
              "    .dataframe tbody tr th {\n",
              "        vertical-align: top;\n",
              "    }\n",
              "\n",
              "    .dataframe thead th {\n",
              "        text-align: right;\n",
              "    }\n",
              "</style>\n",
              "<table border=\"1\" class=\"dataframe\">\n",
              "  <thead>\n",
              "    <tr style=\"text-align: right;\">\n",
              "      <th></th>\n",
              "      <th>ARREST_KEY</th>\n",
              "      <th>ARREST_DATE</th>\n",
              "      <th>PD_DESC</th>\n",
              "      <th>OFNS_DESC</th>\n",
              "      <th>ARREST_BORO</th>\n",
              "      <th>Latitude</th>\n",
              "      <th>Longitude</th>\n",
              "      <th>Name_of_day</th>\n",
              "      <th>Day</th>\n",
              "      <th>Name_of_month</th>\n",
              "      <th>Month</th>\n",
              "      <th>Year</th>\n",
              "    </tr>\n",
              "  </thead>\n",
              "  <tbody>\n",
              "    <tr>\n",
              "      <th>1</th>\n",
              "      <td>173114463</td>\n",
              "      <td>2017-12-31</td>\n",
              "      <td>THEFT OF SERVICES, UNCLASSIFIED</td>\n",
              "      <td>OTHER OFFENSES RELATED TO THEFT</td>\n",
              "      <td>Queens</td>\n",
              "      <td>40.769437</td>\n",
              "      <td>-73.910241</td>\n",
              "      <td>Sunday</td>\n",
              "      <td>7</td>\n",
              "      <td>December</td>\n",
              "      <td>12</td>\n",
              "      <td>2017</td>\n",
              "    </tr>\n",
              "    <tr>\n",
              "      <th>2</th>\n",
              "      <td>173113513</td>\n",
              "      <td>2017-12-31</td>\n",
              "      <td>NY STATE LAWS,UNCLASSIFIED VIOLATION</td>\n",
              "      <td>OTHER STATE LAWS</td>\n",
              "      <td>Brooklyn</td>\n",
              "      <td>40.679525</td>\n",
              "      <td>-73.904572</td>\n",
              "      <td>Sunday</td>\n",
              "      <td>7</td>\n",
              "      <td>December</td>\n",
              "      <td>12</td>\n",
              "      <td>2017</td>\n",
              "    </tr>\n",
              "    <tr>\n",
              "      <th>3</th>\n",
              "      <td>173113423</td>\n",
              "      <td>2017-12-31</td>\n",
              "      <td>ASSAULT 3</td>\n",
              "      <td>ASSAULT 3 &amp; RELATED OFFENSES</td>\n",
              "      <td>Manhattan</td>\n",
              "      <td>40.763523</td>\n",
              "      <td>-73.987074</td>\n",
              "      <td>Sunday</td>\n",
              "      <td>7</td>\n",
              "      <td>December</td>\n",
              "      <td>12</td>\n",
              "      <td>2017</td>\n",
              "    </tr>\n",
              "    <tr>\n",
              "      <th>4</th>\n",
              "      <td>173113421</td>\n",
              "      <td>2017-12-31</td>\n",
              "      <td>ASSAULT 3</td>\n",
              "      <td>ASSAULT 3 &amp; RELATED OFFENSES</td>\n",
              "      <td>Manhattan</td>\n",
              "      <td>40.759768</td>\n",
              "      <td>-73.989811</td>\n",
              "      <td>Sunday</td>\n",
              "      <td>7</td>\n",
              "      <td>December</td>\n",
              "      <td>12</td>\n",
              "      <td>2017</td>\n",
              "    </tr>\n",
              "    <tr>\n",
              "      <th>5</th>\n",
              "      <td>173130583</td>\n",
              "      <td>2017-12-31</td>\n",
              "      <td>ROBBERY,UNCLASSIFIED,OPEN AREAS</td>\n",
              "      <td>ROBBERY</td>\n",
              "      <td>Brooklyn</td>\n",
              "      <td>40.684194</td>\n",
              "      <td>-73.916085</td>\n",
              "      <td>Sunday</td>\n",
              "      <td>7</td>\n",
              "      <td>December</td>\n",
              "      <td>12</td>\n",
              "      <td>2017</td>\n",
              "    </tr>\n",
              "  </tbody>\n",
              "</table>\n",
              "</div>"
            ],
            "text/plain": [
              "   ARREST_KEY ARREST_DATE                               PD_DESC  \\\n",
              "1   173114463  2017-12-31       THEFT OF SERVICES, UNCLASSIFIED   \n",
              "2   173113513  2017-12-31  NY STATE LAWS,UNCLASSIFIED VIOLATION   \n",
              "3   173113423  2017-12-31                             ASSAULT 3   \n",
              "4   173113421  2017-12-31                             ASSAULT 3   \n",
              "5   173130583  2017-12-31       ROBBERY,UNCLASSIFIED,OPEN AREAS   \n",
              "\n",
              "                         OFNS_DESC ARREST_BORO   Latitude  Longitude  \\\n",
              "1  OTHER OFFENSES RELATED TO THEFT      Queens  40.769437 -73.910241   \n",
              "2                 OTHER STATE LAWS    Brooklyn  40.679525 -73.904572   \n",
              "3     ASSAULT 3 & RELATED OFFENSES   Manhattan  40.763523 -73.987074   \n",
              "4     ASSAULT 3 & RELATED OFFENSES   Manhattan  40.759768 -73.989811   \n",
              "5                          ROBBERY    Brooklyn  40.684194 -73.916085   \n",
              "\n",
              "  Name_of_day  Day Name_of_month  Month  Year  \n",
              "1      Sunday    7      December     12  2017  \n",
              "2      Sunday    7      December     12  2017  \n",
              "3      Sunday    7      December     12  2017  \n",
              "4      Sunday    7      December     12  2017  \n",
              "5      Sunday    7      December     12  2017  "
            ]
          },
          "metadata": {
            "tags": []
          },
          "execution_count": 53
        }
      ]
    },
    {
      "cell_type": "markdown",
      "metadata": {
        "id": "KeTxb3v9y9eK",
        "colab_type": "text"
      },
      "source": [
        "## **d) Pivot table, showing monthly spread of top 3 crimes, accumulated over the last 10 years**"
      ]
    },
    {
      "cell_type": "code",
      "metadata": {
        "id": "gk3gZOimdvS3",
        "colab_type": "code",
        "outputId": "3aa3d3f8-0ae3-4b00-f480-48200067f081",
        "colab": {
          "base_uri": "https://localhost:8080/",
          "height": 479
        }
      },
      "source": [
        "df_top3[['ARREST_KEY', 'PD_DESC', 'Month']].pivot_table(\n",
        "    index='Month', \n",
        "    columns='PD_DESC', \n",
        "    fill_value=0, \n",
        "    aggfunc='count').plot(kind='area',\n",
        "                          stacked=True,\n",
        "                          figsize=(16, 7),\n",
        "                               fontsize=14,\n",
        "                               colormap='tab20')\n",
        "\n",
        "plt.xlabel('Month Number [1 being January]', fontsize=18)\n",
        "plt.ylabel('Number of Arrests', fontsize=18)\n",
        "plt.title('Comparison of Number of Arrests in top 3 offences', loc='left', fontsize=24)\n",
        "\n",
        "plt.savefig('Fig4.png')"
      ],
      "execution_count": 90,
      "outputs": [
        {
          "output_type": "display_data",
          "data": {
            "image/png": "[encoded data removed]",
            "text/plain": [
              "<Figure size 1152x504 with 1 Axes>"
            ]
          },
          "metadata": {
            "tags": []
          }
        }
      ]
    },
    {
      "cell_type": "markdown",
      "metadata": {
        "id": "QVLJ5z1ezYbu",
        "colab_type": "text"
      },
      "source": [
        "## **e) Pivot table, showing day-wise spread of top 3 crimes, accumulated over the last 10 years**"
      ]
    },
    {
      "cell_type": "code",
      "metadata": {
        "id": "FygLB1j7fBXn",
        "colab_type": "code",
        "outputId": "5d3dde9d-18b3-4330-b774-e100331dd99a",
        "colab": {
          "base_uri": "https://localhost:8080/",
          "height": 479
        }
      },
      "source": [
        "df_top3[['ARREST_KEY', 'PD_DESC', 'Day']].pivot_table(\n",
        "    index='Day', \n",
        "    columns='PD_DESC', \n",
        "    fill_value=0, \n",
        "    aggfunc='count').plot(kind='area',\n",
        "                          stacked=True,\n",
        "                          figsize=(16, 7),\n",
        "                               fontsize=14,\n",
        "                               colormap='tab20')\n",
        "\n",
        "plt.xlabel('Day  [1 being Monday]', fontsize=18)\n",
        "plt.ylabel('Number of Arrests', fontsize=18)\n",
        "plt.title('Comparison of Number of Arrests in top 3 offences', loc='left', fontsize=24)\n",
        "\n",
        "plt.savefig('Fig5.png')"
      ],
      "execution_count": 91,
      "outputs": [
        {
          "output_type": "display_data",
          "data": {
            "image/png": "[encoded data removed]",
            "text/plain": [
              "<Figure size 1152x504 with 1 Axes>"
            ]
          },
          "metadata": {
            "tags": []
          }
        }
      ]
    },
    {
      "cell_type": "markdown",
      "metadata": {
        "id": "S1Ks3fdN0PxH",
        "colab_type": "text"
      },
      "source": [
        "# **4. Web scraping, for data about the top venues to visit in New York City**"
      ]
    },
    {
      "cell_type": "code",
      "metadata": {
        "id": "eKBEbd1LhepT",
        "colab_type": "code",
        "colab": {}
      },
      "source": [
        "#Web scrapping for top 30 venues to visit in NYC\n",
        "\n",
        "\n",
        "\n",
        "top=requests.get(\"https://foursquare.com/explore?mode=url&ne=40.822383%2C-73.841&q=Top%20Picks&sw=40.666056%2C-74.129047\")\n",
        "\n",
        "soup = BeautifulSoup(top.content, 'html.parser')\n",
        "\n",
        "top_venues = soup.find_all('div', class_='venueDetails')\n",
        "\n",
        "top_venues\n",
        "\n",
        "\n",
        "version='20180604'\n",
        "\n"
      ],
      "execution_count": 0,
      "outputs": []
    },
    {
      "cell_type": "code",
      "metadata": {
        "id": "2BFFzSauhtea",
        "colab_type": "code",
        "colab": {}
      },
      "source": [
        "#these are the columns that we'll use to store data about the top venues\n",
        "venue_columns = ['id', \n",
        "                 'score', \n",
        "                 'category', \n",
        "                 'name', \n",
        "                 'address',\n",
        "                 'postalcode',\n",
        "                 'city',\n",
        "                 'href', \n",
        "                 'latitude', \n",
        "                 'longitude']\n",
        "\n",
        "\n",
        "df_top_venues = pd.DataFrame(columns=venue_columns)\n",
        "\n",
        "\n",
        "\n",
        "for venuex in top_venues:\n",
        "    \n",
        "    # Extract the available attributes\n",
        "    venue_name = venuex.find(target=\"_blank\").get_text()\n",
        "    venue_score = venuex.find(class_=\"venueScore positive\").get_text()\n",
        "    venue_cat = venuex.find(class_=\"categoryName\").get_text()\n",
        "    venue_href = venuex.find(class_=\"venueName\").h2.a['href']\n",
        "    venue_id = venue_href.split('/')[-1]\n",
        "        \n",
        "    # Contruct the FourSquare venue API URL\n",
        "    url = 'https://api.foursquare.com/v2/venues/{}?client_id={}&client_secret={}&v={}'.format(venue_id,\n",
        "                                                                                              client_id,\n",
        "                                                                                              client_secret,\n",
        "                                                                                              version)\n",
        "    \n",
        "    # Request the venue data\n",
        "    result = requests.get(url).json()\n",
        "        \n",
        "    # Get the properly formatted address and the latitude and longitude\n",
        "    try:\n",
        "      venue_address = result['response']['venue']['location']['address']\n",
        "      venue_postalcode = result['response']['venue']['location']['postalCode']\n",
        "      venue_city = result['response']['venue']['location']['city']\n",
        "      venue_latitude = result['response']['venue']['location']['lat']\n",
        "      venue_longitude = result['response']['venue']['location']['lng']\n",
        "    \n",
        "    except:\n",
        "      continue\n",
        "      \n",
        "      \n",
        "    # Add the venue to the top venues dataframe\n",
        "    df_top_venues = df_top_venues.append({'id': venue_id,\n",
        "                                          'score': venue_score,\n",
        "                                          'category': venue_cat,\n",
        "                                          'name': venue_name,\n",
        "                                          'address': venue_address,\n",
        "                                          'postalcode': venue_postalcode,\n",
        "                                          'city': venue_city,\n",
        "                                          'href': venue_href,\n",
        "                                          'latitude': venue_latitude,\n",
        "                                          'longitude': venue_longitude},ignore_index=True)"
      ],
      "execution_count": 0,
      "outputs": []
    },
    {
      "cell_type": "code",
      "metadata": {
        "id": "6A_t5Hm8sC3d",
        "colab_type": "code",
        "outputId": "f05e8f26-b89a-487c-a74d-2ec57801052d",
        "colab": {
          "base_uri": "https://localhost:8080/",
          "height": 1534
        }
      },
      "source": [
        "df_top_venues"
      ],
      "execution_count": 59,
      "outputs": [
        {
          "output_type": "execute_result",
          "data": {
            "text/html": [
              "<div>\n",
              "<style scoped>\n",
              "    .dataframe tbody tr th:only-of-type {\n",
              "        vertical-align: middle;\n",
              "    }\n",
              "\n",
              "    .dataframe tbody tr th {\n",
              "        vertical-align: top;\n",
              "    }\n",
              "\n",
              "    .dataframe thead th {\n",
              "        text-align: right;\n",
              "    }\n",
              "</style>\n",
              "<table border=\"1\" class=\"dataframe\">\n",
              "  <thead>\n",
              "    <tr style=\"text-align: right;\">\n",
              "      <th></th>\n",
              "      <th>id</th>\n",
              "      <th>score</th>\n",
              "      <th>category</th>\n",
              "      <th>name</th>\n",
              "      <th>address</th>\n",
              "      <th>postalcode</th>\n",
              "      <th>city</th>\n",
              "      <th>href</th>\n",
              "      <th>latitude</th>\n",
              "      <th>longitude</th>\n",
              "    </tr>\n",
              "  </thead>\n",
              "  <tbody>\n",
              "    <tr>\n",
              "      <th>0</th>\n",
              "      <td>412d2800f964a520df0c1fe3</td>\n",
              "      <td>9.7</td>\n",
              "      <td>Park</td>\n",
              "      <td>Central Park</td>\n",
              "      <td>59th St to 110th St</td>\n",
              "      <td>10028</td>\n",
              "      <td>New York</td>\n",
              "      <td>/v/central-park/412d2800f964a520df0c1fe3</td>\n",
              "      <td>40.784083</td>\n",
              "      <td>-73.964853</td>\n",
              "    </tr>\n",
              "    <tr>\n",
              "      <th>1</th>\n",
              "      <td>430d0a00f964a5203e271fe3</td>\n",
              "      <td>9.7</td>\n",
              "      <td>Park</td>\n",
              "      <td>Brooklyn Bridge Park</td>\n",
              "      <td>Main St</td>\n",
              "      <td>11201</td>\n",
              "      <td>Brooklyn</td>\n",
              "      <td>/v/brooklyn-bridge-park/430d0a00f964a5203e271fe3</td>\n",
              "      <td>40.702282</td>\n",
              "      <td>-73.996456</td>\n",
              "    </tr>\n",
              "    <tr>\n",
              "      <th>2</th>\n",
              "      <td>4ec0a81fb6341cd41f1ef402</td>\n",
              "      <td>9.6</td>\n",
              "      <td>Theater</td>\n",
              "      <td>Minskoff Theatre</td>\n",
              "      <td>1515 Broadway</td>\n",
              "      <td>10036</td>\n",
              "      <td>New York</td>\n",
              "      <td>/v/minskoff-theatre/4ec0a81fb6341cd41f1ef402</td>\n",
              "      <td>40.757389</td>\n",
              "      <td>-73.985537</td>\n",
              "    </tr>\n",
              "    <tr>\n",
              "      <th>3</th>\n",
              "      <td>4a468cd9f964a52015a91fe3</td>\n",
              "      <td>9.6</td>\n",
              "      <td>Field</td>\n",
              "      <td>Long Meadow</td>\n",
              "      <td>Prospect Park</td>\n",
              "      <td>11215</td>\n",
              "      <td>Brooklyn</td>\n",
              "      <td>/v/long-meadow/4a468cd9f964a52015a91fe3</td>\n",
              "      <td>40.668758</td>\n",
              "      <td>-73.970304</td>\n",
              "    </tr>\n",
              "    <tr>\n",
              "      <th>4</th>\n",
              "      <td>4ed6adfce5fabbd89f617d4f</td>\n",
              "      <td>9.6</td>\n",
              "      <td>Trail</td>\n",
              "      <td>Hudson River Greenway Running Path</td>\n",
              "      <td>Hudson River Greenway</td>\n",
              "      <td>10282</td>\n",
              "      <td>New York</td>\n",
              "      <td>/v/hudson-river-greenway-running-path/4ed6adfc...</td>\n",
              "      <td>40.732552</td>\n",
              "      <td>-74.010580</td>\n",
              "    </tr>\n",
              "    <tr>\n",
              "      <th>5</th>\n",
              "      <td>43222200f964a5209c271fe3</td>\n",
              "      <td>9.6</td>\n",
              "      <td>State / Provincial Park</td>\n",
              "      <td>Gantry Plaza State Park</td>\n",
              "      <td>474 48th Ave</td>\n",
              "      <td>11109</td>\n",
              "      <td>Queens</td>\n",
              "      <td>/v/gantry-plaza-state-park/43222200f964a5209c2...</td>\n",
              "      <td>40.746558</td>\n",
              "      <td>-73.958051</td>\n",
              "    </tr>\n",
              "    <tr>\n",
              "      <th>6</th>\n",
              "      <td>42377700f964a52024201fe3</td>\n",
              "      <td>9.6</td>\n",
              "      <td>Scenic Lookout</td>\n",
              "      <td>Brooklyn Heights Promenade</td>\n",
              "      <td>Columbia Heights</td>\n",
              "      <td>11201</td>\n",
              "      <td>Brooklyn</td>\n",
              "      <td>/v/brooklyn-heights-promenade/42377700f964a520...</td>\n",
              "      <td>40.698462</td>\n",
              "      <td>-73.996707</td>\n",
              "    </tr>\n",
              "    <tr>\n",
              "      <th>7</th>\n",
              "      <td>3fd66200f964a520d7f11ee3</td>\n",
              "      <td>9.6</td>\n",
              "      <td>Park</td>\n",
              "      <td>Bryant Park</td>\n",
              "      <td>E 42nd St</td>\n",
              "      <td>10018</td>\n",
              "      <td>New York</td>\n",
              "      <td>/v/bryant-park/3fd66200f964a520d7f11ee3</td>\n",
              "      <td>40.753621</td>\n",
              "      <td>-73.983265</td>\n",
              "    </tr>\n",
              "    <tr>\n",
              "      <th>8</th>\n",
              "      <td>427c0500f964a52097211fe3</td>\n",
              "      <td>9.6</td>\n",
              "      <td>Art Museum</td>\n",
              "      <td>Metropolitan Museum of Art</td>\n",
              "      <td>1000 5th Ave</td>\n",
              "      <td>10028</td>\n",
              "      <td>New York</td>\n",
              "      <td>/v/the-metropolitan-museum-of-art/427c0500f964...</td>\n",
              "      <td>40.779729</td>\n",
              "      <td>-73.963416</td>\n",
              "    </tr>\n",
              "    <tr>\n",
              "      <th>9</th>\n",
              "      <td>4b240a1ff964a520b25f24e3</td>\n",
              "      <td>9.6</td>\n",
              "      <td>Park</td>\n",
              "      <td>Hudson River Park</td>\n",
              "      <td>West St</td>\n",
              "      <td>10011</td>\n",
              "      <td>New York</td>\n",
              "      <td>/v/hudson-river-park/4b240a1ff964a520b25f24e3</td>\n",
              "      <td>40.733487</td>\n",
              "      <td>-74.010506</td>\n",
              "    </tr>\n",
              "    <tr>\n",
              "      <th>10</th>\n",
              "      <td>59580ce6db1d8148fee3d383</td>\n",
              "      <td>9.6</td>\n",
              "      <td>Tacos</td>\n",
              "      <td>Los Tacos No. 1</td>\n",
              "      <td>229 W 43rd St</td>\n",
              "      <td>10036</td>\n",
              "      <td>New York</td>\n",
              "      <td>/v/los-tacos-no-1/59580ce6db1d8148fee3d383</td>\n",
              "      <td>40.757134</td>\n",
              "      <td>-73.987536</td>\n",
              "    </tr>\n",
              "    <tr>\n",
              "      <th>11</th>\n",
              "      <td>40f1d480f964a5206a0a1fe3</td>\n",
              "      <td>9.5</td>\n",
              "      <td>Park</td>\n",
              "      <td>High Line</td>\n",
              "      <td>btwn Gansevoort &amp; W 34th St</td>\n",
              "      <td>10011</td>\n",
              "      <td>New York</td>\n",
              "      <td>/v/high-line/40f1d480f964a5206a0a1fe3</td>\n",
              "      <td>40.746825</td>\n",
              "      <td>-74.005507</td>\n",
              "    </tr>\n",
              "    <tr>\n",
              "      <th>12</th>\n",
              "      <td>4fd4ff3ce4b0bd432923a7c7</td>\n",
              "      <td>9.5</td>\n",
              "      <td>Beach</td>\n",
              "      <td>Pebble Beach</td>\n",
              "      <td>Brooklyn Bridge Park Greenway</td>\n",
              "      <td>11201</td>\n",
              "      <td>Brooklyn</td>\n",
              "      <td>/v/pebble-beach/4fd4ff3ce4b0bd432923a7c7</td>\n",
              "      <td>40.704329</td>\n",
              "      <td>-73.990265</td>\n",
              "    </tr>\n",
              "    <tr>\n",
              "      <th>13</th>\n",
              "      <td>5904b98ceacf4521f010e3c2</td>\n",
              "      <td>9.5</td>\n",
              "      <td>Bookstore</td>\n",
              "      <td>Books Are Magic</td>\n",
              "      <td>225 Smith St</td>\n",
              "      <td>11231</td>\n",
              "      <td>Brooklyn</td>\n",
              "      <td>/v/books-are-magic/5904b98ceacf4521f010e3c2</td>\n",
              "      <td>40.684140</td>\n",
              "      <td>-73.992134</td>\n",
              "    </tr>\n",
              "    <tr>\n",
              "      <th>14</th>\n",
              "      <td>5a0e475b018cbb6a2196479e</td>\n",
              "      <td>9.5</td>\n",
              "      <td>Sushi</td>\n",
              "      <td>Sushi By Bou</td>\n",
              "      <td>49 W 20th St</td>\n",
              "      <td>10011</td>\n",
              "      <td>New York</td>\n",
              "      <td>/v/sushi-by-bou/5a0e475b018cbb6a2196479e</td>\n",
              "      <td>40.740883</td>\n",
              "      <td>-73.993525</td>\n",
              "    </tr>\n",
              "    <tr>\n",
              "      <th>15</th>\n",
              "      <td>40abf500f964a52035f31ee3</td>\n",
              "      <td>9.5</td>\n",
              "      <td>Park</td>\n",
              "      <td>Washington Square Park</td>\n",
              "      <td>W 4th St</td>\n",
              "      <td>10012</td>\n",
              "      <td>New York</td>\n",
              "      <td>/v/washington-square-park/40abf500f964a52035f3...</td>\n",
              "      <td>40.730816</td>\n",
              "      <td>-73.997458</td>\n",
              "    </tr>\n",
              "    <tr>\n",
              "      <th>16</th>\n",
              "      <td>49f37c28f964a520a36a1fe3</td>\n",
              "      <td>9.5</td>\n",
              "      <td>Wine Shop</td>\n",
              "      <td>Astor Wines &amp; Spirits</td>\n",
              "      <td>399 Lafayette St</td>\n",
              "      <td>10003</td>\n",
              "      <td>New York</td>\n",
              "      <td>/v/astor-wines--spirits/49f37c28f964a520a36a1fe3</td>\n",
              "      <td>40.727984</td>\n",
              "      <td>-73.993047</td>\n",
              "    </tr>\n",
              "    <tr>\n",
              "      <th>17</th>\n",
              "      <td>49e377baf964a52084621fe3</td>\n",
              "      <td>9.5</td>\n",
              "      <td>Park</td>\n",
              "      <td>Pier A Park</td>\n",
              "      <td>Sinatra Dr</td>\n",
              "      <td>07030</td>\n",
              "      <td>Hoboken</td>\n",
              "      <td>/v/pier-a-park/49e377baf964a52084621fe3</td>\n",
              "      <td>40.736820</td>\n",
              "      <td>-74.027081</td>\n",
              "    </tr>\n",
              "    <tr>\n",
              "      <th>18</th>\n",
              "      <td>5ae115d7c84d18002393461a</td>\n",
              "      <td>9.5</td>\n",
              "      <td>Ice Cream</td>\n",
              "      <td>Ample Hills Creamery</td>\n",
              "      <td>34-02 30th Ave</td>\n",
              "      <td>11103</td>\n",
              "      <td>Astoria</td>\n",
              "      <td>/v/ample-hills-creamery/5ae115d7c84d18002393461a</td>\n",
              "      <td>40.765562</td>\n",
              "      <td>-73.919012</td>\n",
              "    </tr>\n",
              "    <tr>\n",
              "      <th>19</th>\n",
              "      <td>4fbbd9ede4b0756c0d4c2364</td>\n",
              "      <td>9.5</td>\n",
              "      <td>Spa</td>\n",
              "      <td>Aire Ancient Baths</td>\n",
              "      <td>88 Franklin St</td>\n",
              "      <td>10013</td>\n",
              "      <td>New York</td>\n",
              "      <td>/v/aire-ancient-baths/4fbbd9ede4b0756c0d4c2364</td>\n",
              "      <td>40.718141</td>\n",
              "      <td>-74.004941</td>\n",
              "    </tr>\n",
              "    <tr>\n",
              "      <th>20</th>\n",
              "      <td>4a9ad8d2f964a520213320e3</td>\n",
              "      <td>9.5</td>\n",
              "      <td>Garden</td>\n",
              "      <td>Conservatory Garden</td>\n",
              "      <td>1231 5th Ave</td>\n",
              "      <td>10029</td>\n",
              "      <td>New York</td>\n",
              "      <td>/v/conservatory-garden/4a9ad8d2f964a520213320e3</td>\n",
              "      <td>40.793531</td>\n",
              "      <td>-73.952032</td>\n",
              "    </tr>\n",
              "    <tr>\n",
              "      <th>21</th>\n",
              "      <td>48e480eef964a52022521fe3</td>\n",
              "      <td>9.5</td>\n",
              "      <td>Opera House</td>\n",
              "      <td>Metropolitan Opera</td>\n",
              "      <td>70 Lincoln Center Plz</td>\n",
              "      <td>10023</td>\n",
              "      <td>New York</td>\n",
              "      <td>/v/the-metropolitan-opera/48e480eef964a5202252...</td>\n",
              "      <td>40.772742</td>\n",
              "      <td>-73.984401</td>\n",
              "    </tr>\n",
              "    <tr>\n",
              "      <th>22</th>\n",
              "      <td>56bf8899cd102af95de0a66e</td>\n",
              "      <td>9.5</td>\n",
              "      <td>Indie Movies</td>\n",
              "      <td>Metrograph</td>\n",
              "      <td>7 Ludlow St</td>\n",
              "      <td>10002</td>\n",
              "      <td>New York</td>\n",
              "      <td>/v/metrograph/56bf8899cd102af95de0a66e</td>\n",
              "      <td>40.714999</td>\n",
              "      <td>-73.991035</td>\n",
              "    </tr>\n",
              "    <tr>\n",
              "      <th>23</th>\n",
              "      <td>4da491f6593f8eec9a257e35</td>\n",
              "      <td>9.5</td>\n",
              "      <td>Movie Theater</td>\n",
              "      <td>Nitehawk Cinema</td>\n",
              "      <td>136 Metropolitan Ave</td>\n",
              "      <td>11249</td>\n",
              "      <td>Brooklyn</td>\n",
              "      <td>/v/nitehawk-cinema/4da491f6593f8eec9a257e35</td>\n",
              "      <td>40.716183</td>\n",
              "      <td>-73.962420</td>\n",
              "    </tr>\n",
              "    <tr>\n",
              "      <th>24</th>\n",
              "      <td>590fa389018cbb785fbbd4e5</td>\n",
              "      <td>9.5</td>\n",
              "      <td>Grocery Store</td>\n",
              "      <td>Trader Joe's</td>\n",
              "      <td>1350 Willow Ave.</td>\n",
              "      <td>07030</td>\n",
              "      <td>Hoboken</td>\n",
              "      <td>/v/trader-joes/590fa389018cbb785fbbd4e5</td>\n",
              "      <td>40.753634</td>\n",
              "      <td>-74.029832</td>\n",
              "    </tr>\n",
              "    <tr>\n",
              "      <th>25</th>\n",
              "      <td>43222200f964a5209a271fe3</td>\n",
              "      <td>9.5</td>\n",
              "      <td>Park</td>\n",
              "      <td>Astoria Park</td>\n",
              "      <td>at Shore &amp; Ditmars Blvd</td>\n",
              "      <td>11106</td>\n",
              "      <td>Astoria</td>\n",
              "      <td>/v/astoria-park/43222200f964a5209a271fe3</td>\n",
              "      <td>40.777315</td>\n",
              "      <td>-73.923792</td>\n",
              "    </tr>\n",
              "    <tr>\n",
              "      <th>26</th>\n",
              "      <td>57e9590a498e2d323e20c667</td>\n",
              "      <td>9.5</td>\n",
              "      <td>Seafood</td>\n",
              "      <td>Los Mariscos</td>\n",
              "      <td>409 West 15th St</td>\n",
              "      <td>10011</td>\n",
              "      <td>New York</td>\n",
              "      <td>/v/los-mariscos/57e9590a498e2d323e20c667</td>\n",
              "      <td>40.742000</td>\n",
              "      <td>-74.005890</td>\n",
              "    </tr>\n",
              "    <tr>\n",
              "      <th>27</th>\n",
              "      <td>4c1164576e5dc9b69506b02d</td>\n",
              "      <td>9.5</td>\n",
              "      <td>Park</td>\n",
              "      <td>Battery Park City Esplanade</td>\n",
              "      <td>Battery Park City</td>\n",
              "      <td>10280</td>\n",
              "      <td>New York</td>\n",
              "      <td>/v/battery-park-city-esplanade/4c1164576e5dc9b...</td>\n",
              "      <td>40.711622</td>\n",
              "      <td>-74.017907</td>\n",
              "    </tr>\n",
              "  </tbody>\n",
              "</table>\n",
              "</div>"
            ],
            "text/plain": [
              "                          id score                 category  \\\n",
              "0   412d2800f964a520df0c1fe3   9.7                     Park   \n",
              "1   430d0a00f964a5203e271fe3   9.7                     Park   \n",
              "2   4ec0a81fb6341cd41f1ef402   9.6                  Theater   \n",
              "3   4a468cd9f964a52015a91fe3   9.6                    Field   \n",
              "4   4ed6adfce5fabbd89f617d4f   9.6                    Trail   \n",
              "5   43222200f964a5209c271fe3   9.6  State / Provincial Park   \n",
              "6   42377700f964a52024201fe3   9.6           Scenic Lookout   \n",
              "7   3fd66200f964a520d7f11ee3   9.6                     Park   \n",
              "8   427c0500f964a52097211fe3   9.6               Art Museum   \n",
              "9   4b240a1ff964a520b25f24e3   9.6                     Park   \n",
              "10  59580ce6db1d8148fee3d383   9.6                    Tacos   \n",
              "11  40f1d480f964a5206a0a1fe3   9.5                     Park   \n",
              "12  4fd4ff3ce4b0bd432923a7c7   9.5                    Beach   \n",
              "13  5904b98ceacf4521f010e3c2   9.5                Bookstore   \n",
              "14  5a0e475b018cbb6a2196479e   9.5                    Sushi   \n",
              "15  40abf500f964a52035f31ee3   9.5                     Park   \n",
              "16  49f37c28f964a520a36a1fe3   9.5                Wine Shop   \n",
              "17  49e377baf964a52084621fe3   9.5                     Park   \n",
              "18  5ae115d7c84d18002393461a   9.5                Ice Cream   \n",
              "19  4fbbd9ede4b0756c0d4c2364   9.5                      Spa   \n",
              "20  4a9ad8d2f964a520213320e3   9.5                   Garden   \n",
              "21  48e480eef964a52022521fe3   9.5              Opera House   \n",
              "22  56bf8899cd102af95de0a66e   9.5             Indie Movies   \n",
              "23  4da491f6593f8eec9a257e35   9.5            Movie Theater   \n",
              "24  590fa389018cbb785fbbd4e5   9.5            Grocery Store   \n",
              "25  43222200f964a5209a271fe3   9.5                     Park   \n",
              "26  57e9590a498e2d323e20c667   9.5                  Seafood   \n",
              "27  4c1164576e5dc9b69506b02d   9.5                     Park   \n",
              "\n",
              "                                  name                        address  \\\n",
              "0                         Central Park            59th St to 110th St   \n",
              "1                 Brooklyn Bridge Park                        Main St   \n",
              "2                     Minskoff Theatre                  1515 Broadway   \n",
              "3                          Long Meadow                  Prospect Park   \n",
              "4   Hudson River Greenway Running Path          Hudson River Greenway   \n",
              "5              Gantry Plaza State Park                   474 48th Ave   \n",
              "6           Brooklyn Heights Promenade               Columbia Heights   \n",
              "7                          Bryant Park                      E 42nd St   \n",
              "8           Metropolitan Museum of Art                   1000 5th Ave   \n",
              "9                    Hudson River Park                        West St   \n",
              "10                     Los Tacos No. 1                  229 W 43rd St   \n",
              "11                           High Line    btwn Gansevoort & W 34th St   \n",
              "12                        Pebble Beach  Brooklyn Bridge Park Greenway   \n",
              "13                     Books Are Magic                   225 Smith St   \n",
              "14                        Sushi By Bou                   49 W 20th St   \n",
              "15              Washington Square Park                       W 4th St   \n",
              "16               Astor Wines & Spirits               399 Lafayette St   \n",
              "17                         Pier A Park                     Sinatra Dr   \n",
              "18                Ample Hills Creamery                 34-02 30th Ave   \n",
              "19                  Aire Ancient Baths                 88 Franklin St   \n",
              "20                 Conservatory Garden                   1231 5th Ave   \n",
              "21                  Metropolitan Opera          70 Lincoln Center Plz   \n",
              "22                          Metrograph                    7 Ludlow St   \n",
              "23                     Nitehawk Cinema           136 Metropolitan Ave   \n",
              "24                        Trader Joe's               1350 Willow Ave.   \n",
              "25                        Astoria Park        at Shore & Ditmars Blvd   \n",
              "26                        Los Mariscos               409 West 15th St   \n",
              "27         Battery Park City Esplanade              Battery Park City   \n",
              "\n",
              "   postalcode      city                                               href  \\\n",
              "0       10028  New York           /v/central-park/412d2800f964a520df0c1fe3   \n",
              "1       11201  Brooklyn   /v/brooklyn-bridge-park/430d0a00f964a5203e271fe3   \n",
              "2       10036  New York       /v/minskoff-theatre/4ec0a81fb6341cd41f1ef402   \n",
              "3       11215  Brooklyn            /v/long-meadow/4a468cd9f964a52015a91fe3   \n",
              "4       10282  New York  /v/hudson-river-greenway-running-path/4ed6adfc...   \n",
              "5       11109    Queens  /v/gantry-plaza-state-park/43222200f964a5209c2...   \n",
              "6       11201  Brooklyn  /v/brooklyn-heights-promenade/42377700f964a520...   \n",
              "7       10018  New York            /v/bryant-park/3fd66200f964a520d7f11ee3   \n",
              "8       10028  New York  /v/the-metropolitan-museum-of-art/427c0500f964...   \n",
              "9       10011  New York      /v/hudson-river-park/4b240a1ff964a520b25f24e3   \n",
              "10      10036  New York         /v/los-tacos-no-1/59580ce6db1d8148fee3d383   \n",
              "11      10011  New York              /v/high-line/40f1d480f964a5206a0a1fe3   \n",
              "12      11201  Brooklyn           /v/pebble-beach/4fd4ff3ce4b0bd432923a7c7   \n",
              "13      11231  Brooklyn        /v/books-are-magic/5904b98ceacf4521f010e3c2   \n",
              "14      10011  New York           /v/sushi-by-bou/5a0e475b018cbb6a2196479e   \n",
              "15      10012  New York  /v/washington-square-park/40abf500f964a52035f3...   \n",
              "16      10003  New York   /v/astor-wines--spirits/49f37c28f964a520a36a1fe3   \n",
              "17      07030   Hoboken            /v/pier-a-park/49e377baf964a52084621fe3   \n",
              "18      11103   Astoria   /v/ample-hills-creamery/5ae115d7c84d18002393461a   \n",
              "19      10013  New York     /v/aire-ancient-baths/4fbbd9ede4b0756c0d4c2364   \n",
              "20      10029  New York    /v/conservatory-garden/4a9ad8d2f964a520213320e3   \n",
              "21      10023  New York  /v/the-metropolitan-opera/48e480eef964a5202252...   \n",
              "22      10002  New York             /v/metrograph/56bf8899cd102af95de0a66e   \n",
              "23      11249  Brooklyn        /v/nitehawk-cinema/4da491f6593f8eec9a257e35   \n",
              "24      07030   Hoboken            /v/trader-joes/590fa389018cbb785fbbd4e5   \n",
              "25      11106   Astoria           /v/astoria-park/43222200f964a5209a271fe3   \n",
              "26      10011  New York           /v/los-mariscos/57e9590a498e2d323e20c667   \n",
              "27      10280  New York  /v/battery-park-city-esplanade/4c1164576e5dc9b...   \n",
              "\n",
              "     latitude  longitude  \n",
              "0   40.784083 -73.964853  \n",
              "1   40.702282 -73.996456  \n",
              "2   40.757389 -73.985537  \n",
              "3   40.668758 -73.970304  \n",
              "4   40.732552 -74.010580  \n",
              "5   40.746558 -73.958051  \n",
              "6   40.698462 -73.996707  \n",
              "7   40.753621 -73.983265  \n",
              "8   40.779729 -73.963416  \n",
              "9   40.733487 -74.010506  \n",
              "10  40.757134 -73.987536  \n",
              "11  40.746825 -74.005507  \n",
              "12  40.704329 -73.990265  \n",
              "13  40.684140 -73.992134  \n",
              "14  40.740883 -73.993525  \n",
              "15  40.730816 -73.997458  \n",
              "16  40.727984 -73.993047  \n",
              "17  40.736820 -74.027081  \n",
              "18  40.765562 -73.919012  \n",
              "19  40.718141 -74.004941  \n",
              "20  40.793531 -73.952032  \n",
              "21  40.772742 -73.984401  \n",
              "22  40.714999 -73.991035  \n",
              "23  40.716183 -73.962420  \n",
              "24  40.753634 -74.029832  \n",
              "25  40.777315 -73.923792  \n",
              "26  40.742000 -74.005890  \n",
              "27  40.711622 -74.017907  "
            ]
          },
          "metadata": {
            "tags": []
          },
          "execution_count": 59
        }
      ]
    },
    {
      "cell_type": "code",
      "metadata": {
        "id": "pUmCBRNO8EP2",
        "colab_type": "code",
        "colab": {}
      },
      "source": [
        "df_top_venues.to_csv(\"Top_venues.csv\", index=False)"
      ],
      "execution_count": 0,
      "outputs": []
    },
    {
      "cell_type": "code",
      "metadata": {
        "id": "FYoguQQqDV8i",
        "colab_type": "code",
        "colab": {}
      },
      "source": [
        "df_crimes = pd.read_csv(\"crimes10yrs (1).csv\")\n",
        "\n",
        "\n",
        "\n",
        "df_top_venues = pd.read_csv(\"Top_venues (1).csv\")\n"
      ],
      "execution_count": 0,
      "outputs": []
    },
    {
      "cell_type": "markdown",
      "metadata": {
        "id": "RgP6C43hsw_h",
        "colab_type": "text"
      },
      "source": [
        "### Now, we find data about the restaurants near our top venues"
      ]
    },
    {
      "cell_type": "code",
      "metadata": {
        "id": "hN_8toCnOI-k",
        "colab_type": "code",
        "colab": {}
      },
      "source": [
        "# The column names for the restaurants dataframe\n",
        "restaurants_columns = ['id',\n",
        "                       'score', \n",
        "                       'category', \n",
        "                       'categoryID', \n",
        "                       'name', \n",
        "                       'address',\n",
        "                       'postalcode',\n",
        "                       'city',\n",
        "                       'latitude',\n",
        "                       'longitude', \n",
        "                       'venue_name', \n",
        "                       'venue_latitude',\n",
        "                       'venue_longitude']\n",
        "\n",
        "# Create the empty top venues dataframe\n",
        "df_restaurant = pd.DataFrame(columns=restaurants_columns)\n",
        "\n",
        "# Create a list of all the top venue latitude and longitude\n",
        "top_venue_lngs = df_top_venues['longitude'].values\n",
        "\n",
        "# Create a list of all the top venue names\n",
        "top_venue_names = df_top_venues['name'].values\n",
        "\n",
        "# Iterate over each of the top venues\n",
        "# The venue name, latitude and longitude are passed to the loop\n",
        "top_venue_lats = df_top_venues['latitude'].values"
      ],
      "execution_count": 0,
      "outputs": []
    },
    {
      "cell_type": "code",
      "metadata": {
        "id": "pEvCaeajaUXO",
        "colab_type": "code",
        "colab": {}
      },
      "source": [
        "for ven_name, ven_lat, ven_long in zip(top_venue_names, top_venue_lats, top_venue_lngs):\n",
        "    \n",
        "    # Configure additional Search parameters\n",
        "    # This is the FourSquare Category Id for all food venues\n",
        "    categoryId = '4d4b7105d754a06374d81259'\n",
        "    radius = 500\n",
        "    limit = 50\n",
        "    \n",
        "    # Contruct the FourSquare search API URL\n",
        "    url = 'https://api.foursquare.com/v2/venues/search?client_id={}&client_secret={}&ll={},{}&v={}&categoryId={}&radius={}&limit={}'.format(\n",
        "        cid,\n",
        "        csecret,\n",
        "        ven_lat,\n",
        "        ven_long,\n",
        "        '20180604',\n",
        "        categoryId,\n",
        "        radius,\n",
        "        limit)\n",
        "    \n",
        "    # Make the search request\n",
        "    results = requests.get(url).json()\n",
        "    \n",
        "    \n",
        "    \n",
        "    # Want a good selection of Restaurents\n",
        "    # If less than 10 are returned ignore\n",
        "    if len(results['response']['venues']) < 10:\n",
        "        continue\n",
        "        \n",
        "    # Populate the new dataframe with the list of restaurants\n",
        "    # Get the values for each Restaurant from the JSON\n",
        "    for restaurant in results['response']['venues']:\n",
        "      try:\n",
        "        # Sometimes the Venue JSON is missing data. If so ignore and continue\n",
        "        \n",
        "        # Get location details\n",
        "        rest_id = restaurant['id']\n",
        "        rest_category = restaurant['categories'][0]['pluralName']\n",
        "        rest_categoryID = restaurant['categories'][0]['id']\n",
        "        rest_name = restaurant['name']\n",
        "        rest_address = restaurant['location']['address']\n",
        "        rest_postalcode = restaurant['location']['postalCode']\n",
        "        rest_city = restaurant['location']['city']\n",
        "        rest_latitude = restaurant['location']['lat']\n",
        "        rest_longitude = restaurant['location']['lng']\n",
        "        \n",
        "        rest_url = 'https://api.foursquare.com/v2/venues/{}?client_id={}&client_secret={}&v={}'.format(\n",
        "                rest_id, \n",
        "                cid,\n",
        "                csecret,\n",
        "                '20180604')\n",
        "        resultf = requests.get(rest_url).json()\n",
        "        rest_score = resultf['response']['venue']['rating']\n",
        "        # Add the restaurant details to the datafram\n",
        "        df_restaurant = df_restaurant.append({'id': rest_id,\n",
        "                                           'score': rest_score,\n",
        "                                            'category': rest_category,\n",
        "                                            'categoryID': rest_categoryID,\n",
        "                                            'postalcode': rest_postalcode,\n",
        "                                            'name': rest_name,\n",
        "                                            'address': rest_address,\n",
        "                                            'city': rest_city,\n",
        "                                            'latitude': rest_latitude,\n",
        "                                            'longitude': rest_longitude,\n",
        "                                            'venue_name': ven_name,\n",
        "                                            'venue_latitude': ven_lat,\n",
        "                                            'venue_longitude': ven_long}, ignore_index=True)\n",
        "            \n",
        "        # If there are any issue with a restaurant ignore and continue\n",
        "      except:\n",
        "            continue"
      ],
      "execution_count": 0,
      "outputs": []
    },
    {
      "cell_type": "markdown",
      "metadata": {
        "id": "eoO243tetTb3",
        "colab_type": "text"
      },
      "source": [
        ""
      ]
    },
    {
      "cell_type": "code",
      "metadata": {
        "id": "fHOrpr3O7WOp",
        "colab_type": "code",
        "outputId": "042cb342-c2af-4cd9-d01a-ac4f0760d41b",
        "colab": {
          "base_uri": "https://localhost:8080/",
          "height": 350
        }
      },
      "source": [
        "df_restaurant.tail()"
      ],
      "execution_count": 19,
      "outputs": [
        {
          "output_type": "execute_result",
          "data": {
            "text/html": [
              "<div>\n",
              "<style scoped>\n",
              "    .dataframe tbody tr th:only-of-type {\n",
              "        vertical-align: middle;\n",
              "    }\n",
              "\n",
              "    .dataframe tbody tr th {\n",
              "        vertical-align: top;\n",
              "    }\n",
              "\n",
              "    .dataframe thead th {\n",
              "        text-align: right;\n",
              "    }\n",
              "</style>\n",
              "<table border=\"1\" class=\"dataframe\">\n",
              "  <thead>\n",
              "    <tr style=\"text-align: right;\">\n",
              "      <th></th>\n",
              "      <th>id</th>\n",
              "      <th>score</th>\n",
              "      <th>category</th>\n",
              "      <th>categoryID</th>\n",
              "      <th>name</th>\n",
              "      <th>address</th>\n",
              "      <th>postalcode</th>\n",
              "      <th>city</th>\n",
              "      <th>latitude</th>\n",
              "      <th>longitude</th>\n",
              "      <th>venue_name</th>\n",
              "      <th>venue_latitude</th>\n",
              "      <th>venue_longitude</th>\n",
              "    </tr>\n",
              "  </thead>\n",
              "  <tbody>\n",
              "    <tr>\n",
              "      <th>451</th>\n",
              "      <td>4a006e57f964a5207e701fe3</td>\n",
              "      <td>8.0</td>\n",
              "      <td>Italian Restaurants</td>\n",
              "      <td>4bf58dd8d48988d110941735</td>\n",
              "      <td>Gabriel's</td>\n",
              "      <td>11 W 60th St</td>\n",
              "      <td>10023</td>\n",
              "      <td>New York</td>\n",
              "      <td>40.769095</td>\n",
              "      <td>-73.982720</td>\n",
              "      <td>Metropolitan Opera</td>\n",
              "      <td>40.772742</td>\n",
              "      <td>-73.984401</td>\n",
              "    </tr>\n",
              "    <tr>\n",
              "      <th>452</th>\n",
              "      <td>589bb0fddfa6ff5e1dc8649f</td>\n",
              "      <td>9.0</td>\n",
              "      <td>Vegetarian / Vegan Restaurants</td>\n",
              "      <td>4bf58dd8d48988d1d3941735</td>\n",
              "      <td>Orchard Grocer</td>\n",
              "      <td>78 Orchard St</td>\n",
              "      <td>10002</td>\n",
              "      <td>New York</td>\n",
              "      <td>40.717847</td>\n",
              "      <td>-73.990358</td>\n",
              "      <td>Metrograph</td>\n",
              "      <td>40.714999</td>\n",
              "      <td>-73.991035</td>\n",
              "    </tr>\n",
              "    <tr>\n",
              "      <th>453</th>\n",
              "      <td>57d59a77cd1065b75e80d0a6</td>\n",
              "      <td>9.2</td>\n",
              "      <td>Cafés</td>\n",
              "      <td>4bf58dd8d48988d16d941735</td>\n",
              "      <td>Gotan</td>\n",
              "      <td>258 Wythe Ave</td>\n",
              "      <td>11249</td>\n",
              "      <td>Brooklyn</td>\n",
              "      <td>40.717006</td>\n",
              "      <td>-73.963086</td>\n",
              "      <td>Nitehawk Cinema</td>\n",
              "      <td>40.716183</td>\n",
              "      <td>-73.962420</td>\n",
              "    </tr>\n",
              "    <tr>\n",
              "      <th>454</th>\n",
              "      <td>58195606fa17e5341d8d8e7d</td>\n",
              "      <td>8.9</td>\n",
              "      <td>New American Restaurants</td>\n",
              "      <td>4bf58dd8d48988d157941735</td>\n",
              "      <td>Sunday In Brooklyn</td>\n",
              "      <td>348 Wythe Ave</td>\n",
              "      <td>11249</td>\n",
              "      <td>Brooklyn</td>\n",
              "      <td>40.714205</td>\n",
              "      <td>-73.965224</td>\n",
              "      <td>Nitehawk Cinema</td>\n",
              "      <td>40.716183</td>\n",
              "      <td>-73.962420</td>\n",
              "    </tr>\n",
              "    <tr>\n",
              "      <th>455</th>\n",
              "      <td>548c7da0498ea6aa0e8e5a1d</td>\n",
              "      <td>9.1</td>\n",
              "      <td>Salad Places</td>\n",
              "      <td>4bf58dd8d48988d1bd941735</td>\n",
              "      <td>sweetgreen</td>\n",
              "      <td>162 N 4th St</td>\n",
              "      <td>11211</td>\n",
              "      <td>Brooklyn</td>\n",
              "      <td>40.715804</td>\n",
              "      <td>-73.959234</td>\n",
              "      <td>Nitehawk Cinema</td>\n",
              "      <td>40.716183</td>\n",
              "      <td>-73.962420</td>\n",
              "    </tr>\n",
              "  </tbody>\n",
              "</table>\n",
              "</div>"
            ],
            "text/plain": [
              "                           id  score                        category  \\\n",
              "451  4a006e57f964a5207e701fe3    8.0             Italian Restaurants   \n",
              "452  589bb0fddfa6ff5e1dc8649f    9.0  Vegetarian / Vegan Restaurants   \n",
              "453  57d59a77cd1065b75e80d0a6    9.2                           Cafés   \n",
              "454  58195606fa17e5341d8d8e7d    8.9        New American Restaurants   \n",
              "455  548c7da0498ea6aa0e8e5a1d    9.1                    Salad Places   \n",
              "\n",
              "                   categoryID                name        address postalcode  \\\n",
              "451  4bf58dd8d48988d110941735           Gabriel's   11 W 60th St      10023   \n",
              "452  4bf58dd8d48988d1d3941735      Orchard Grocer  78 Orchard St      10002   \n",
              "453  4bf58dd8d48988d16d941735               Gotan  258 Wythe Ave      11249   \n",
              "454  4bf58dd8d48988d157941735  Sunday In Brooklyn  348 Wythe Ave      11249   \n",
              "455  4bf58dd8d48988d1bd941735          sweetgreen   162 N 4th St      11211   \n",
              "\n",
              "         city   latitude  longitude          venue_name  venue_latitude  \\\n",
              "451  New York  40.769095 -73.982720  Metropolitan Opera       40.772742   \n",
              "452  New York  40.717847 -73.990358          Metrograph       40.714999   \n",
              "453  Brooklyn  40.717006 -73.963086     Nitehawk Cinema       40.716183   \n",
              "454  Brooklyn  40.714205 -73.965224     Nitehawk Cinema       40.716183   \n",
              "455  Brooklyn  40.715804 -73.959234     Nitehawk Cinema       40.716183   \n",
              "\n",
              "     venue_longitude  \n",
              "451       -73.984401  \n",
              "452       -73.991035  \n",
              "453       -73.962420  \n",
              "454       -73.962420  \n",
              "455       -73.962420  "
            ]
          },
          "metadata": {
            "tags": []
          },
          "execution_count": 19
        }
      ]
    },
    {
      "cell_type": "code",
      "metadata": {
        "id": "5ipoQAE3_Epe",
        "colab_type": "code",
        "colab": {}
      },
      "source": [
        "df_restaurant.to_csv(\"Restaurant.csv\", index=False)"
      ],
      "execution_count": 0,
      "outputs": []
    },
    {
      "cell_type": "code",
      "metadata": {
        "id": "UWXXwT8DD3Gf",
        "colab_type": "code",
        "outputId": "6bb51100-0841-496a-d733-034815da73ba",
        "colab": {
          "base_uri": "https://localhost:8080/",
          "height": 34
        }
      },
      "source": [
        "# Verify the shape of the restaurants dataframe\n",
        "df_restaurant.shape"
      ],
      "execution_count": 17,
      "outputs": [
        {
          "output_type": "execute_result",
          "data": {
            "text/plain": [
              "(456, 13)"
            ]
          },
          "metadata": {
            "tags": []
          },
          "execution_count": 17
        }
      ]
    },
    {
      "cell_type": "code",
      "metadata": {
        "id": "Y8C7o1CeEIjd",
        "colab_type": "code",
        "outputId": "78bb4342-0dc2-40c2-cc32-aa2aa9e11b7e",
        "colab": {
          "base_uri": "https://localhost:8080/",
          "height": 168
        }
      },
      "source": [
        "\n",
        "# Describe the score to see if there is nuch variance in the values\n",
        "df_restaurant.score.describe()"
      ],
      "execution_count": 52,
      "outputs": [
        {
          "output_type": "execute_result",
          "data": {
            "text/plain": [
              "count    534.000000\n",
              "mean       7.996067\n",
              "std        0.915062\n",
              "min        5.100000\n",
              "25%        7.500000\n",
              "50%        8.200000\n",
              "75%        8.700000\n",
              "max        9.600000\n",
              "Name: score, dtype: float64"
            ]
          },
          "metadata": {
            "tags": []
          },
          "execution_count": 52
        }
      ]
    },
    {
      "cell_type": "code",
      "metadata": {
        "id": "p8u-fpMwEbwn",
        "colab_type": "code",
        "outputId": "d9bf8655-c467-4ccf-89aa-42faaba769af",
        "colab": {
          "base_uri": "https://localhost:8080/",
          "height": 34
        }
      },
      "source": [
        "# How many unique restaurant categories are there\n",
        "df_restaurant.category.nunique()"
      ],
      "execution_count": 53,
      "outputs": [
        {
          "output_type": "execute_result",
          "data": {
            "text/plain": [
              "85"
            ]
          },
          "metadata": {
            "tags": []
          },
          "execution_count": 53
        }
      ]
    },
    {
      "cell_type": "code",
      "metadata": {
        "id": "e5I6T84TE0A7",
        "colab_type": "code",
        "outputId": "ce69c176-d5a3-44c1-8c8d-4699406e917a",
        "colab": {
          "base_uri": "https://localhost:8080/",
          "height": 218
        }
      },
      "source": [
        "# What arethe top 10 most frequently occuring restaurant types\n",
        "df_restaurant.groupby('category')['name'].count().sort_values(ascending=False)[:10]"
      ],
      "execution_count": 54,
      "outputs": [
        {
          "output_type": "execute_result",
          "data": {
            "text/plain": [
              "category\n",
              "Coffee Shops            73\n",
              "American Restaurants    39\n",
              "Italian Restaurants     38\n",
              "Bakeries                34\n",
              "Pizza Places            27\n",
              "Cafés                   22\n",
              "Diners                  15\n",
              "Burger Joints           14\n",
              "Donut Shops             14\n",
              "Juice Bars              13\n",
              "Name: name, dtype: int64"
            ]
          },
          "metadata": {
            "tags": []
          },
          "execution_count": 54
        }
      ]
    },
    {
      "cell_type": "code",
      "metadata": {
        "id": "4eiDwDEjE5AM",
        "colab_type": "code",
        "outputId": "593ded20-5e88-45e6-eb4b-a1333758957b",
        "colab": {
          "base_uri": "https://localhost:8080/",
          "height": 218
        }
      },
      "source": [
        "# Which restaurants have to highest average score\n",
        "df_restaurant.groupby('category')['score'].mean().sort_values(ascending=False)[:10]"
      ],
      "execution_count": 55,
      "outputs": [
        {
          "output_type": "execute_result",
          "data": {
            "text/plain": [
              "category\n",
              "Bookstores              9.40\n",
              "Fish Markets            9.30\n",
              "Bubble Tea Shops        9.20\n",
              "Tapas Restaurants       9.10\n",
              "Clothing Stores         9.10\n",
              "Steakhouses             9.10\n",
              "Taco Places             9.06\n",
              "Gift Shops              9.00\n",
              "Fried Chicken Joints    8.90\n",
              "Candy Stores            8.85\n",
              "Name: score, dtype: float64"
            ]
          },
          "metadata": {
            "tags": []
          },
          "execution_count": 55
        }
      ]
    },
    {
      "cell_type": "markdown",
      "metadata": {
        "id": "uwdxZWP2H7wm",
        "colab_type": "text"
      },
      "source": [
        "# **5. Visualisation of all the data we have collected so far, on a map**"
      ]
    },
    {
      "cell_type": "code",
      "metadata": {
        "id": "17Yq25U_Jj14",
        "colab_type": "code",
        "outputId": "a84a4890-9119-4ea6-9883-4f28803b6b32",
        "colab": {
          "base_uri": "https://localhost:8080/",
          "height": 817
        }
      },
      "source": [
        "#We load this dataframe d4 for crime record of 2017, as crime record of the 10 years of data can't be visualised on folium as it doesn't support >1000 markers\n",
        "\n",
        "col_1=['CMPLNT_NUM','PD_DESC','Latitude','Longitude']\n",
        "\n",
        "df4=pd.read_csv('NYC_crime.csv', usecols=col_1)\n",
        "\n",
        "df4"
      ],
      "execution_count": 56,
      "outputs": [
        {
          "output_type": "execute_result",
          "data": {
            "text/html": [
              "<div>\n",
              "<style scoped>\n",
              "    .dataframe tbody tr th:only-of-type {\n",
              "        vertical-align: middle;\n",
              "    }\n",
              "\n",
              "    .dataframe tbody tr th {\n",
              "        vertical-align: top;\n",
              "    }\n",
              "\n",
              "    .dataframe thead th {\n",
              "        text-align: right;\n",
              "    }\n",
              "</style>\n",
              "<table border=\"1\" class=\"dataframe\">\n",
              "  <thead>\n",
              "    <tr style=\"text-align: right;\">\n",
              "      <th></th>\n",
              "      <th>CMPLNT_NUM</th>\n",
              "      <th>PD_DESC</th>\n",
              "      <th>Latitude</th>\n",
              "      <th>Longitude</th>\n",
              "    </tr>\n",
              "  </thead>\n",
              "  <tbody>\n",
              "    <tr>\n",
              "      <th>0</th>\n",
              "      <td>403250906</td>\n",
              "      <td>SEXUAL ABUSE 3,2</td>\n",
              "      <td>40.814850</td>\n",
              "      <td>-73.956682</td>\n",
              "    </tr>\n",
              "    <tr>\n",
              "      <th>1</th>\n",
              "      <td>235290134</td>\n",
              "      <td>HARASSMENT,SUBD 3,4,5</td>\n",
              "      <td>40.737857</td>\n",
              "      <td>-74.008182</td>\n",
              "    </tr>\n",
              "    <tr>\n",
              "      <th>2</th>\n",
              "      <td>563999853</td>\n",
              "      <td>ASSAULT 3</td>\n",
              "      <td>40.716970</td>\n",
              "      <td>-73.995622</td>\n",
              "    </tr>\n",
              "    <tr>\n",
              "      <th>3</th>\n",
              "      <td>877956688</td>\n",
              "      <td>SEXUAL ABUSE 3,2</td>\n",
              "      <td>40.800694</td>\n",
              "      <td>-73.941109</td>\n",
              "    </tr>\n",
              "    <tr>\n",
              "      <th>4</th>\n",
              "      <td>505910152</td>\n",
              "      <td>AGGRAVATED HARASSMENT 2</td>\n",
              "      <td>40.802640</td>\n",
              "      <td>-73.947075</td>\n",
              "    </tr>\n",
              "    <tr>\n",
              "      <th>5</th>\n",
              "      <td>748658209</td>\n",
              "      <td>FRAUD,UNCLASSIFIED-FELONY</td>\n",
              "      <td>40.849627</td>\n",
              "      <td>-73.930743</td>\n",
              "    </tr>\n",
              "    <tr>\n",
              "      <th>6</th>\n",
              "      <td>849426894</td>\n",
              "      <td>SEXUAL ABUSE</td>\n",
              "      <td>40.828851</td>\n",
              "      <td>-73.943834</td>\n",
              "    </tr>\n",
              "    <tr>\n",
              "      <th>7</th>\n",
              "      <td>337642706</td>\n",
              "      <td>IMPERSONATION 1, POLICE OFFICE</td>\n",
              "      <td>40.789004</td>\n",
              "      <td>-73.946558</td>\n",
              "    </tr>\n",
              "    <tr>\n",
              "      <th>8</th>\n",
              "      <td>455393595</td>\n",
              "      <td>SEXUAL ABUSE 3,2</td>\n",
              "      <td>40.815732</td>\n",
              "      <td>-73.945420</td>\n",
              "    </tr>\n",
              "    <tr>\n",
              "      <th>9</th>\n",
              "      <td>546531997</td>\n",
              "      <td>LARCENY,PETIT FROM AUTO</td>\n",
              "      <td>40.836194</td>\n",
              "      <td>-73.946112</td>\n",
              "    </tr>\n",
              "    <tr>\n",
              "      <th>10</th>\n",
              "      <td>181592115</td>\n",
              "      <td>FRAUD,UNCLASSIFIED-MISDEMEANOR</td>\n",
              "      <td>40.709743</td>\n",
              "      <td>-74.006263</td>\n",
              "    </tr>\n",
              "    <tr>\n",
              "      <th>11</th>\n",
              "      <td>153768808</td>\n",
              "      <td>LARCENY,GRAND BY DISHONEST EMP</td>\n",
              "      <td>40.828840</td>\n",
              "      <td>-73.937525</td>\n",
              "    </tr>\n",
              "    <tr>\n",
              "      <th>12</th>\n",
              "      <td>738608402</td>\n",
              "      <td>SEXUAL MISCONDUCT,INTERCOURSE</td>\n",
              "      <td>40.800694</td>\n",
              "      <td>-73.941109</td>\n",
              "    </tr>\n",
              "    <tr>\n",
              "      <th>13</th>\n",
              "      <td>141577142</td>\n",
              "      <td>AGGRAVATED HARASSMENT 2</td>\n",
              "      <td>40.801023</td>\n",
              "      <td>-73.957857</td>\n",
              "    </tr>\n",
              "    <tr>\n",
              "      <th>14</th>\n",
              "      <td>851935504</td>\n",
              "      <td>FRAUD,UNCLASSIFIED-FELONY</td>\n",
              "      <td>40.848401</td>\n",
              "      <td>-73.937673</td>\n",
              "    </tr>\n",
              "    <tr>\n",
              "      <th>15</th>\n",
              "      <td>636533717</td>\n",
              "      <td>LARCENY,PETIT FROM BUILDING,UN</td>\n",
              "      <td>40.705787</td>\n",
              "      <td>-74.008384</td>\n",
              "    </tr>\n",
              "    <tr>\n",
              "      <th>16</th>\n",
              "      <td>246724531</td>\n",
              "      <td>FRAUD,UNCLASSIFIED-FELONY</td>\n",
              "      <td>40.745779</td>\n",
              "      <td>-74.007234</td>\n",
              "    </tr>\n",
              "    <tr>\n",
              "      <th>17</th>\n",
              "      <td>680585582</td>\n",
              "      <td>FRAUD,UNCLASSIFIED-FELONY</td>\n",
              "      <td>40.848128</td>\n",
              "      <td>-73.930885</td>\n",
              "    </tr>\n",
              "    <tr>\n",
              "      <th>18</th>\n",
              "      <td>437013982</td>\n",
              "      <td>SODOMY 1</td>\n",
              "      <td>40.814850</td>\n",
              "      <td>-73.956682</td>\n",
              "    </tr>\n",
              "    <tr>\n",
              "      <th>19</th>\n",
              "      <td>726341940</td>\n",
              "      <td>SEXUAL ABUSE 3,2</td>\n",
              "      <td>40.716508</td>\n",
              "      <td>-73.983920</td>\n",
              "    </tr>\n",
              "    <tr>\n",
              "      <th>20</th>\n",
              "      <td>305070094</td>\n",
              "      <td>RAPE 1</td>\n",
              "      <td>40.726554</td>\n",
              "      <td>-73.987828</td>\n",
              "    </tr>\n",
              "    <tr>\n",
              "      <th>21</th>\n",
              "      <td>309974238</td>\n",
              "      <td>ASSAULT 2,1,UNCLASSIFIED</td>\n",
              "      <td>40.746589</td>\n",
              "      <td>-73.997555</td>\n",
              "    </tr>\n",
              "    <tr>\n",
              "      <th>22</th>\n",
              "      <td>266120857</td>\n",
              "      <td>SEXUAL ABUSE 3,2</td>\n",
              "      <td>40.815732</td>\n",
              "      <td>-73.945420</td>\n",
              "    </tr>\n",
              "    <tr>\n",
              "      <th>23</th>\n",
              "      <td>384040746</td>\n",
              "      <td>NY STATE LAWS,UNCLASSIFIED FEL</td>\n",
              "      <td>40.716344</td>\n",
              "      <td>-74.001253</td>\n",
              "    </tr>\n",
              "    <tr>\n",
              "      <th>24</th>\n",
              "      <td>871013873</td>\n",
              "      <td>FRAUD,UNCLASSIFIED-MISDEMEANOR</td>\n",
              "      <td>40.767336</td>\n",
              "      <td>-73.954875</td>\n",
              "    </tr>\n",
              "    <tr>\n",
              "      <th>25</th>\n",
              "      <td>407241454</td>\n",
              "      <td>RAPE 3</td>\n",
              "      <td>40.808750</td>\n",
              "      <td>-73.952586</td>\n",
              "    </tr>\n",
              "  </tbody>\n",
              "</table>\n",
              "</div>"
            ],
            "text/plain": [
              "    CMPLNT_NUM                         PD_DESC   Latitude  Longitude\n",
              "0    403250906                SEXUAL ABUSE 3,2  40.814850 -73.956682\n",
              "1    235290134           HARASSMENT,SUBD 3,4,5  40.737857 -74.008182\n",
              "2    563999853                       ASSAULT 3  40.716970 -73.995622\n",
              "3    877956688                SEXUAL ABUSE 3,2  40.800694 -73.941109\n",
              "4    505910152         AGGRAVATED HARASSMENT 2  40.802640 -73.947075\n",
              "5    748658209       FRAUD,UNCLASSIFIED-FELONY  40.849627 -73.930743\n",
              "6    849426894                    SEXUAL ABUSE  40.828851 -73.943834\n",
              "7    337642706  IMPERSONATION 1, POLICE OFFICE  40.789004 -73.946558\n",
              "8    455393595                SEXUAL ABUSE 3,2  40.815732 -73.945420\n",
              "9    546531997         LARCENY,PETIT FROM AUTO  40.836194 -73.946112\n",
              "10   181592115  FRAUD,UNCLASSIFIED-MISDEMEANOR  40.709743 -74.006263\n",
              "11   153768808  LARCENY,GRAND BY DISHONEST EMP  40.828840 -73.937525\n",
              "12   738608402   SEXUAL MISCONDUCT,INTERCOURSE  40.800694 -73.941109\n",
              "13   141577142         AGGRAVATED HARASSMENT 2  40.801023 -73.957857\n",
              "14   851935504       FRAUD,UNCLASSIFIED-FELONY  40.848401 -73.937673\n",
              "15   636533717  LARCENY,PETIT FROM BUILDING,UN  40.705787 -74.008384\n",
              "16   246724531       FRAUD,UNCLASSIFIED-FELONY  40.745779 -74.007234\n",
              "17   680585582       FRAUD,UNCLASSIFIED-FELONY  40.848128 -73.930885\n",
              "18   437013982                        SODOMY 1  40.814850 -73.956682\n",
              "19   726341940                SEXUAL ABUSE 3,2  40.716508 -73.983920\n",
              "20   305070094                          RAPE 1  40.726554 -73.987828\n",
              "21   309974238        ASSAULT 2,1,UNCLASSIFIED  40.746589 -73.997555\n",
              "22   266120857                SEXUAL ABUSE 3,2  40.815732 -73.945420\n",
              "23   384040746  NY STATE LAWS,UNCLASSIFIED FEL  40.716344 -74.001253\n",
              "24   871013873  FRAUD,UNCLASSIFIED-MISDEMEANOR  40.767336 -73.954875\n",
              "25   407241454                          RAPE 3  40.808750 -73.952586"
            ]
          },
          "metadata": {
            "tags": []
          },
          "execution_count": 56
        }
      ]
    },
    {
      "cell_type": "code",
      "metadata": {
        "id": "zPUWjSiG_miF",
        "colab_type": "code",
        "colab": {}
      },
      "source": [
        "df4.to_csv(\"crimes1yr-lekin.csv\", index=False)"
      ],
      "execution_count": 0,
      "outputs": []
    },
    {
      "cell_type": "markdown",
      "metadata": {
        "id": "XgB3ZcypKsiH",
        "colab_type": "text"
      },
      "source": [
        "### First, a visualisation of all the top venues, and locations where crimes took place in NYC in 2017"
      ]
    },
    {
      "cell_type": "code",
      "metadata": {
        "id": "YxKq-MfAWId4",
        "colab_type": "code",
        "outputId": "3f02a88b-9bd6-416f-be36-87e94d4ca495",
        "colab": {
          "base_uri": "https://localhost:8080/",
          "height": 662
        }
      },
      "source": [
        "#New York Top Venues and location of crimes\n",
        "\n",
        "\n",
        "address='New York City, NY'\n",
        "\n",
        "geolocator = Nominatim(user_agent=\"ny_explorer\")\n",
        "\n",
        "location= geolocator.geocode(address)\n",
        "latitude=location.latitude\n",
        "longitude= location.longitude\n",
        "\n",
        "\n",
        "NY_map6 = folium.Map(location=[latitude, longitude], zoom_start=11, width=850, height=600)\n",
        "\n",
        "for lat, lng, name in zip(df4.Latitude, df4.Longitude, df4.PD_DESC):\n",
        "  folium.Marker(\n",
        "    [lat,  lng],\n",
        "    popup=name,\n",
        "    icon=folium.Icon(color='red',icon='warning-sign'),\n",
        ").add_to(NY_map6)\n",
        "\n",
        "for lat, lng, name in zip(df_top_venues.latitude, df_top_venues.longitude, df_top_venues.name):\n",
        "  folium.Marker(\n",
        "    [lat,  lng],\n",
        "    popup=name,\n",
        "    icon=folium.Icon(color='blue',icon='star'),\n",
        ").add_to(NY_map6)\n",
        "  \n",
        "  \n",
        "NY_map6  "
      ],
      "execution_count": 60,
      "outputs": [
        {
          "output_type": "execute_result",
          "data": {
            "text/html": [
              "<div style=\"width:100%;\"><div style=\"position:relative;width:100%;height:0;padding-bottom:60%;\"><iframe src=\"data:text/html;charset=utf-8;base64,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\" style=\"position:absolute;width:100%;height:100%;left:0;top:0;border:none !important;\" allowfullscreen webkitallowfullscreen mozallowfullscreen></iframe></div></div>"
            ],
            "text/plain": [
              "<folium.folium.Map at 0x7f7a1ac70860>"
            ]
          },
          "metadata": {
            "tags": []
          },
          "execution_count": 60
        }
      ]
    },
    {
      "cell_type": "markdown",
      "metadata": {
        "id": "X3ix61DeLOaS",
        "colab_type": "text"
      },
      "source": [
        "### A Heat map for all the crimes that took place in NYC in 2017"
      ]
    },
    {
      "cell_type": "code",
      "metadata": {
        "id": "2WeT4NSdgiYY",
        "colab_type": "code",
        "outputId": "57183a72-2f08-4a2f-e68b-c7f567d50231",
        "colab": {
          "base_uri": "https://localhost:8080/",
          "height": 662
        }
      },
      "source": [
        "#CircleMarker and HeatMap doesn't work for as many data points as our main dataframe dd had, so we had to visualise using df3 (having data for 1 year)\n",
        "\n",
        "names=['CMPLNT_NUM', 'OFNS_DESC', 'Latitude', 'Longitude']\n",
        "df3=pd.read_csv('NYC_crime.csv', usecols=names)\n",
        "\n",
        "\n",
        "from folium import plugins\n",
        "from folium.plugins import HeatMap\n",
        "\n",
        "NYC_heat = folium.Map(location=[latitude, longitude], zoom_start=12, width=850, height=600) \n",
        "\n",
        "heat_data = [[row['Latitude'], \n",
        "              row['Longitude']] for index, row in df3.iterrows()]\n",
        "\n",
        "\n",
        "HeatMap(heat_data,\n",
        "        min_opacity=0.5,\n",
        "        max_zoom=18, \n",
        "        max_val=1.0, \n",
        "        radius=15,\n",
        "        blur=20,\n",
        "        gradient=None,\n",
        "        overlay=True).add_to(NYC_heat)\n",
        "\n",
        "# Display the map\n",
        "NYC_heat"
      ],
      "execution_count": 62,
      "outputs": [
        {
          "output_type": "execute_result",
          "data": {
            "text/html": [
              "<div style=\"width:100%;\"><div style=\"position:relative;width:100%;height:0;padding-bottom:60%;\"><iframe src=\"data:text/html;charset=utf-8;base64,PCFET0NUWVBFIGh0bWw+CjxoZWFkPiAgICAKICAgIDxtZXRhIGh0dHAtZXF1aXY9ImNvbnRlbnQtdHlwZSIgY29udGVudD0idGV4dC9odG1sOyBjaGFyc2V0PVVURi04IiAvPgogICAgPHNjcmlwdD5MX1BSRUZFUl9DQU5WQVM9ZmFsc2U7IExfTk9fVE9VQ0g9ZmFsc2U7IExfRElTQUJMRV8zRD1mYWxzZTs8L3NjcmlwdD4KICAgIDxzY3JpcHQgc3JjPSJodHRwczovL2Nkbi5qc2RlbGl2ci5uZXQvbnBtL2xlYWZsZXRAMS40LjAvZGlzdC9sZWFmbGV0LmpzIj48L3NjcmlwdD4KICAgIDxzY3JpcHQgc3JjPSJodHRwczovL2NvZGUuanF1ZXJ5LmNvbS9qcXVlcnktMS4xMi40Lm1pbi5qcyI+PC9zY3JpcHQ+CiAgICA8c2NyaXB0IHNyYz0iaHR0cHM6Ly9tYXhjZG4uYm9vdHN0cmFwY2RuLmNvbS9ib290c3RyYXAvMy4yLjAvanMvYm9vdHN0cmFwLm1pbi5qcyI+PC9zY3JpcHQ+CiAgICA8c2NyaXB0IHNyYz0iaHR0cHM6Ly9jZG5qcy5jbG91ZGZsYXJlLmNvbS9hamF4L2xpYnMvTGVhZmxldC5hd2Vzb21lLW1hcmtlcnMvMi4wLjIvbGVhZmxldC5hd2Vzb21lLW1hcmtlcnMuanMiPjwvc2NyaXB0PgogICAgPGxpbmsgcmVsPSJzdHlsZXNoZWV0IiBocmVmPSJodHRwczovL2Nkbi5qc2RlbGl2ci5uZXQvbnBtL2xlYWZsZXRAMS40LjAvZGlzdC9sZWFmbGV0LmNzcyIvPgogICAgPGxpbmsgcmVsPSJzdHlsZXNoZWV0IiBocmVmPSJodHRwczovL21heGNkbi5ib290c3RyYXBjZG4uY29tL2Jvb3RzdHJhcC8zLjIuMC9jc3MvYm9vdHN0cmFwLm1pbi5jc3MiLz4KICAgIDxsaW5rIHJlbD0ic3R5bGVzaGVldCIgaHJlZj0iaHR0cHM6Ly9tYXhjZG4uYm9vdHN0cmFwY2RuLmNvbS9ib290c3RyYXAvMy4yLjAvY3NzL2Jvb3RzdHJhcC10aGVtZS5taW4uY3NzIi8+CiAgICA8bGluayByZWw9InN0eWxlc2hlZXQiIGhyZWY9Imh0dHBzOi8vbWF4Y2RuLmJvb3RzdHJhcGNkbi5jb20vZm9udC1hd2Vzb21lLzQuNi4zL2Nzcy9mb250LWF3ZXNvbWUubWluLmNzcyIvPgogICAgPGxpbmsgcmVsPSJzdHlsZXNoZWV0IiBocmVmPSJodHRwczovL2NkbmpzLmNsb3VkZmxhcmUuY29tL2FqYXgvbGlicy9MZWFmbGV0LmF3ZXNvbWUtbWFya2Vycy8yLjAuMi9sZWFmbGV0LmF3ZXNvbWUtbWFya2Vycy5jc3MiLz4KICAgIDxsaW5rIHJlbD0ic3R5bGVzaGVldCIgaHJlZj0iaHR0cHM6Ly9yYXdjZG4uZ2l0aGFjay5jb20vcHl0aG9uLXZpc3VhbGl6YXRpb24vZm9saXVtL21hc3Rlci9mb2xpdW0vdGVtcGxhdGVzL2xlYWZsZXQuYXdlc29tZS5yb3RhdGUuY3NzIi8+CiAgICA8c3R5bGU+aHRtbCwgYm9keSB7d2lkdGg6IDEwMCU7aGVpZ2h0OiAxMDAlO21hcmdpbjogMDtwYWRkaW5nOiAwO308L3N0eWxlPgogICAgPHN0eWxlPiNtYXAge3Bvc2l0aW9uOmFic29sdXRlO3RvcDowO2JvdHRvbTowO3JpZ2h0OjA7bGVmdDowO308L3N0eWxlPgogICAgCiAgICA8bWV0YSBuYW1lPSJ2aWV3cG9ydCIgY29udGVudD0id2lkdGg9ZGV2aWNlLXdpZHRoLAogICAgICAgIGluaXRpYWwtc2NhbGU9MS4wLCBtYXhpbXVtLXNjYWxlPTEuMCwgdXNlci1zY2FsYWJsZT1ubyIgLz4KICAgIDxzdHlsZT4jbWFwX2ZmNTFjNTk1OTNlZDQ5ZjBiZjNmYTYzZWRjNzU3MjczIHsKICAgICAgICBwb3NpdGlvbjogcmVsYXRpdmU7CiAgICAgICAgd2lkdGg6IDg1MC4wcHg7CiAgICAgICAgaGVpZ2h0OiA2MDAuMHB4OwogICAgICAgIGxlZnQ6IDAuMCU7CiAgICAgICAgdG9wOiAwLjAlOwogICAgICAgIH0KICAgIDwvc3R5bGU+CiAgICA8c2NyaXB0IHNyYz0iaHR0cHM6Ly9sZWFmbGV0LmdpdGh1Yi5pby9MZWFmbGV0LmhlYXQvZGlzdC9sZWFmbGV0LWhlYXQuanMiPjwvc2NyaXB0Pgo8L2hlYWQ+Cjxib2R5PiAgICAKICAgIAogICAgPGRpdiBjbGFzcz0iZm9saXVtLW1hcCIgaWQ9Im1hcF9mZjUxYzU5NTkzZWQ0OWYwYmYzZmE2M2VkYzc1NzI3MyIgPjwvZGl2Pgo8L2JvZHk+CjxzY3JpcHQ+ICAgIAogICAgCiAgICAKICAgICAgICB2YXIgYm91bmRzID0gbnVsbDsKICAgIAoKICAgIHZhciBtYXBfZmY1MWM1OTU5M2VkNDlmMGJmM2ZhNjNlZGM3NTcyNzMgPSBMLm1hcCgKICAgICAgICAnbWFwX2ZmNTFjNTk1OTNlZDQ5ZjBiZjNmYTYzZWRjNzU3MjczJywgewogICAgICAgIGNlbnRlcjogWzQwLjcxMjcyODEsIC03NC4wMDYwMTUyXSwKICAgICAgICB6b29tOiAxMiwKICAgICAgICBtYXhCb3VuZHM6IGJvdW5kcywKICAgICAgICBsYXllcnM6IFtdLAogICAgICAgIHdvcmxkQ29weUp1bXA6IGZhbHNlLAogICAgICAgIGNyczogTC5DUlMuRVBTRzM4NTcsCiAgICAgICAgem9vbUNvbnRyb2w6IHRydWUsCiAgICAgICAgfSk7CgoKICAgIAogICAgdmFyIHRpbGVfbGF5ZXJfOTcwMGQ3MmU4MDdkNGFmMTllM2FmNTk1MDE1YWRmNDEgPSBMLnRpbGVMYXllcigKICAgICAgICAnaHR0cHM6Ly97c30udGlsZS5vcGVuc3RyZWV0bWFwLm9yZy97en0ve3h9L3t5fS5wbmcnLAogICAgICAgIHsKICAgICAgICAiYXR0cmlidXRpb24iOiBudWxsLAogICAgICAgICJkZXRlY3RSZXRpbmEiOiBmYWxzZSwKICAgICAgICAibWF4TmF0aXZlWm9vbSI6IDE4LAogICAgICAgICJtYXhab29tIjogMTgsCiAgICAgICAgIm1pblpvb20iOiAwLAogICAgICAgICJub1dyYXAiOiBmYWxzZSwKICAgICAgICAib3BhY2l0eSI6IDEsCiAgICAgICAgInN1YmRvbWFpbnMiOiAiYWJjIiwKICAgICAgICAidG1zIjogZmFsc2UKfSkuYWRkVG8obWFwX2ZmNTFjNTk1OTNlZDQ5ZjBiZjNmYTYzZWRjNzU3MjczKTsKICAgIAogICAgICAgICAgICB2YXIgaGVhdF9tYXBfNTU4YTBhOTUzYjk2NGJkMDliNTU2Y2U1NzdlMDI2NmIgPSBMLmhlYXRMYXllcigKICAgICAgICAgICAgICAgIFtbNDAuODE0ODUwMjg5MDAwMDUsIC03My45NTY2ODE4NDc5OTk5N10sIFs0MC43Mzc4NTcyNzMwMDAwMywgLTc0LjAwODE4MTkyMTk5OTk1XSwgWzQwLjcxNjk2OTg4MTAwMDA3LCAtNzMuOTk1NjIyMDk4OTk5OTVdLCBbNDAuODAwNjk0MzMxMDAwMDQ1LCAtNzMuOTQxMTA5Mjg1OTk5OTddLCBbNDAuODAyNjQwNDkxMDAwMDM0LCAtNzMuOTQ3MDc0NjExOTk5OTRdLCBbNDAuODQ5NjI2ODc0MDAwMDgsIC03My45MzA3NDI3NjI5OTk5Nl0sIFs0MC44Mjg4NTEwNDUwMDAwOCwgLTczLjk0MzgzNDE5MDk5OTk1XSwgWzQwLjc4OTAwNDQzNTAwMDA0LCAtNzMuOTQ2NTU4MjA0OTk5OTddLCBbNDAuODE1NzMyMDUzMDAwMDMsIC03My45NDU0MjA0MTA5OTk5OV0sIFs0MC44MzYxOTQyNDAwMDAwNSwgLTczLjk0NjExMTkzNjk5OTk2XSwgWzQwLjcwOTc0MjgzNTAwMDAzNiwgLTc0LjAwNjI2MzE2Mzk5OTk1XSwgWzQwLjgyODgzOTU2NTAwMDA3NCwgLTczLjkzNzUyNTE0MDk5OTk4XSwgWzQwLjgwMDY5NDMzMTAwMDA0NSwgLTczLjk0MTEwOTI4NTk5OTk3XSwgWzQwLjgwMTAyMjgwNDAwMDA3LCAtNzMuOTU3ODU3NDk3OTk5OTVdLCBbNDAuODQ4NDAxMTk4MDAwMDMsIC03My45Mzc2NzMwMzU5OTk5NV0sIFs0MC43MDU3ODc0OTUwMDAwNCwgLTc0LjAwODM4MzU2OTk5OTk4XSwgWzQwLjc0NTc3ODY4OTAwMDA3NiwgLTc0LjAwNzIzMzc0NTk5OTk0XSwgWzQwLjg0ODEyODM1MDAwMDAyNSwgLTczLjkzMDg4NTI4Nzk5OTk2XSwgWzQwLjgxNDg1MDI4OTAwMDA1LCAtNzMuOTU2NjgxODQ3OTk5OTddLCBbNDAuNzE2NTA3NzIyMDAwMDgsIC03My45ODM5MTk4OTg5OTk5NF0sIFs0MC43MjY1NTQwMTkwMDAwNSwgLTczLjk4NzgyODQyNjk5OTk1XSwgWzQwLjc0NjU4ODU5MjAwMDA4LCAtNzMuOTk3NTU0NTYzOTk5OThdLCBbNDAuODE1NzMyMDUzMDAwMDMsIC03My45NDU0MjA0MTA5OTk5OV0sIFs0MC43MTYzNDQxNTIwMDAwMywgLTc0LjAwMTI1MzE5Mjk5OTk3XSwgWzQwLjc2NzMzNTU0NzAwMDA3LCAtNzMuOTU0ODc1MjEwOTk5OTRdLCBbNDAuODA4NzQ5OTA0MDAwMDgsIC03My45NTI1ODU4MDU5OTk5M11dLAogICAgICAgICAgICAgICAgewogICAgICAgICAgICAgICAgICAgIG1pbk9wYWNpdHk6IDAuNSwKICAgICAgICAgICAgICAgICAgICBtYXhab29tOiAxOCwKICAgICAgICAgICAgICAgICAgICBtYXg6IDEuMCwKICAgICAgICAgICAgICAgICAgICByYWRpdXM6IDE1LAogICAgICAgICAgICAgICAgICAgIGJsdXI6IDIwLAogICAgICAgICAgICAgICAgICAgIGdyYWRpZW50OiBudWxsCiAgICAgICAgICAgICAgICAgICAgfSkKICAgICAgICAgICAgICAgIC5hZGRUbyhtYXBfZmY1MWM1OTU5M2VkNDlmMGJmM2ZhNjNlZGM3NTcyNzMpOwogICAgICAgIAo8L3NjcmlwdD4=\" style=\"position:absolute;width:100%;height:100%;left:0;top:0;border:none !important;\" allowfullscreen webkitallowfullscreen mozallowfullscreen></iframe></div></div>"
            ],
            "text/plain": [
              "<folium.folium.Map at 0x7f7a1ad8d3c8>"
            ]
          },
          "metadata": {
            "tags": []
          },
          "execution_count": 62
        }
      ]
    },
    {
      "cell_type": "code",
      "metadata": {
        "id": "JeNCR09lYYId",
        "colab_type": "code",
        "colab": {}
      },
      "source": [
        "#cleaning the data, so that the correct names are displayed\n",
        "\n",
        "df_crimes=dd.copy()\n",
        "\n",
        "df_top_venues['name'] = df_top_venues['name'].str.replace(\"'\",'')\n",
        "df_top_venues['name'] = df_top_venues['name'].str.replace(\"&\",' and ')\n",
        "df_top_venues['name'] = df_top_venues['name'].str.replace(\",\",'')\n",
        "\n",
        "df_restaurant['name'] = df_restaurant['name'].str.replace(\"'\",'')\n",
        "df_restaurant['name'] = df_restaurant['name'].str.replace(\"&\",' and ')\n",
        "df_restaurant['name'] = df_restaurant['name'].str.replace(\",\",'')"
      ],
      "execution_count": 0,
      "outputs": []
    },
    {
      "cell_type": "code",
      "metadata": {
        "id": "hSqn_lhEZP98",
        "colab_type": "code",
        "colab": {}
      },
      "source": [
        "#dataframe with top venues having restaurants nearby\n",
        "\n",
        "top_venues_list = df_restaurant.venue_name.unique().tolist()"
      ],
      "execution_count": 0,
      "outputs": []
    },
    {
      "cell_type": "code",
      "metadata": {
        "id": "aib9DzYBZaAG",
        "colab_type": "code",
        "colab": {}
      },
      "source": [
        "# only use those venues which are in top_venues_list\n",
        "df_top_venues = df_top_venues[df_top_venues['name'].isin(top_venues_list)]\n",
        "\n",
        "# Take just the top 10 venues sorted by score\n",
        "df_top10_venues = df_top_venues.sort_values('score', ascending=False)[:10]\n",
        "\n",
        "# Create a list of the top 10 venues names\n",
        "top10_venues_list = df_top10_venues.name.tolist()\n",
        "\n",
        "# Finally filter the Restaurants data frame to include only the top 10 venues\n",
        "df_restaurant = df_restaurant[df_restaurant['venue_name'].isin(top10_venues_list)]\n",
        "\n",
        "df_restaurant.reset_index(inplace=True)"
      ],
      "execution_count": 0,
      "outputs": []
    },
    {
      "cell_type": "code",
      "metadata": {
        "id": "azXGh09ibXuY",
        "colab_type": "code",
        "colab": {}
      },
      "source": [
        "# We create a list of the 2 most commonly occuring crimes\n",
        "top_two_crimes = df_crimes[['PD_DESC', 'ARREST_KEY']].groupby(\n",
        "    ['PD_DESC']).count().sort_values('ARREST_KEY', ascending=False)[:2].axes[0].tolist()\n",
        "\n",
        "# Now, we create a smaller DataFrame of only the top two crimes\n",
        "df_crimes = df_crimes[df_crimes['PD_DESC'].isin(top_two_crimes)]\n",
        "df_crimes.reset_index(inplace=True)\n",
        "df_crimes.drop('index', inplace=True, axis=1)"
      ],
      "execution_count": 0,
      "outputs": []
    },
    {
      "cell_type": "markdown",
      "metadata": {
        "id": "32bcRuErMe-d",
        "colab_type": "text"
      },
      "source": [
        "## First venue to be analysed - Central Park\n",
        "\n",
        "The rest of the data cleaning and visualisation is done purely with Central Park in mind, as a venue"
      ]
    },
    {
      "cell_type": "code",
      "metadata": {
        "id": "GryTZBvYaZKj",
        "colab_type": "code",
        "colab": {}
      },
      "source": [
        "X=df_top10_venues.iloc[0]['latitude'] #latitude of Central Park\n",
        "Y=df_top10_venues.iloc[0]['longitude'] #longitude of Central Park"
      ],
      "execution_count": 0,
      "outputs": []
    },
    {
      "cell_type": "code",
      "metadata": {
        "id": "gk-McPzlcnwa",
        "colab_type": "code",
        "colab": {}
      },
      "source": [
        "dist=[]\n",
        "\n",
        "import geopy.distance\n",
        "\n",
        "c1=(X,Y)\n",
        "\n",
        "for clat, clong in zip(df_crimes.Latitude, df_crimes.Longitude):\n",
        "  c2=(clat, clong)\n",
        "  d= geopy.distance.vincenty(c1, c2).km\n",
        "  dist.append(d)"
      ],
      "execution_count": 0,
      "outputs": []
    },
    {
      "cell_type": "code",
      "metadata": {
        "id": "jaSle3u7c9S1",
        "colab_type": "code",
        "colab": {}
      },
      "source": [
        "df_crimes_venue = df_crimes.copy()\n",
        "df_crimes_venue['dist'] = dist  #new dataframe, containing a column having distance of each crime from Central Park"
      ],
      "execution_count": 0,
      "outputs": []
    },
    {
      "cell_type": "code",
      "metadata": {
        "id": "i0ky9-X6hHFH",
        "colab_type": "code",
        "colab": {
          "base_uri": "https://localhost:8080/",
          "height": 34
        },
        "outputId": "acd16658-069c-43d1-f4b9-8da32e20b968"
      },
      "source": [
        "#these are the number of crimes happening within 700 metres of Central Park\n",
        "\n",
        "flag=0\n",
        "\n",
        "for c in dist:\n",
        "  if c<0.7:\n",
        "    flag=flag+1\n",
        "  \n",
        "print (flag)"
      ],
      "execution_count": 114,
      "outputs": [
        {
          "output_type": "stream",
          "text": [
            "943\n"
          ],
          "name": "stdout"
        }
      ]
    },
    {
      "cell_type": "code",
      "metadata": {
        "id": "OMUM5x-BhLfG",
        "colab_type": "code",
        "colab": {}
      },
      "source": [
        "#keep only data of those crimes that occur within 700m of Central Park\n",
        "df_crimes_venue = df_crimes_venue[df_crimes_venue['dist'] <= 0.7]"
      ],
      "execution_count": 0,
      "outputs": []
    },
    {
      "cell_type": "code",
      "metadata": {
        "id": "wsJOMtVgid5i",
        "colab_type": "code",
        "colab": {}
      },
      "source": [
        "# Dataframe of the restaurants associated with Central Park\n",
        "df_rest_venue = df_restaurant[df_restaurant.venue_name == 'Central Park'].copy()\n",
        "\n",
        "# Sort restaurants on the basis of score\n",
        "df_rest_venue.sort_values('score', ascending=False, inplace=True)"
      ],
      "execution_count": 0,
      "outputs": []
    },
    {
      "cell_type": "markdown",
      "metadata": {
        "id": "jJIRA7llpVdm",
        "colab_type": "text"
      },
      "source": [
        "### Heat Map of crimes around Central Park, along with the top 10 restaurants around it"
      ]
    },
    {
      "cell_type": "code",
      "metadata": {
        "id": "0yf6QIZUi8b-",
        "colab_type": "code",
        "colab": {
          "base_uri": "https://localhost:8080/",
          "height": 662
        },
        "outputId": "8f7eb411-6ccd-4c2f-e5aa-03932730f71e"
      },
      "source": [
        "# create map focused on Central Park\n",
        "CP_heatmap = folium.Map(location=[X, Y], zoom_start=16, height=550, width=750) \n",
        "\n",
        "# make out list of latitudes and longitudes associated with the crimes occuring nearby\n",
        "heat_data = [[row['Latitude'], \n",
        "              row['Longitude']] for index, row in df_crimes_venue.iterrows()]\n",
        "\n",
        "# Plot crimes as a heatmap\n",
        "HeatMap(heat_data,\n",
        "        min_opacity=0.5,\n",
        "        max_zoom=18, \n",
        "        max_val=1.0, \n",
        "        radius=20,\n",
        "        blur=30,\n",
        "        gradient=None,\n",
        "        overlay=True).add_to(CP_heatmap)\n",
        "\n",
        "#Plot venue\n",
        "folium.Marker(\n",
        "    location=[X, Y],\n",
        "    popup='Central Park',\n",
        "    icon=folium.Icon(color='red', icon='star')\n",
        ").add_to(CP_heatmap)\n",
        "\n",
        "# Plot the Top 10 Restaurants\n",
        "for row in df_rest_venue[:10].itertuples():\n",
        "    popup_text = '<h4>' + row.name + '</h4>'\n",
        "    popup_text = popup_text + '<h5>' + row.category + '</h5>'\n",
        "    popup_text = popup_text + '<b>Score: </b>' + str(row.score)\n",
        "    popup = folium.Popup(popup_text)\n",
        "    folium.Marker([row.latitude, row.longitude], \n",
        "                  popup=popup,\n",
        "                  icon=folium.Icon(color='blue', icon='thumbs-up')\n",
        "                 ).add_to(CP_heatmap)\n",
        "\n",
        "\n",
        "\n",
        "CP_heatmap"
      ],
      "execution_count": 125,
      "outputs": [
        {
          "output_type": "execute_result",
          "data": {
            "text/html": [
              "<div style=\"width:100%;\"><div style=\"position:relative;width:100%;height:0;padding-bottom:60%;\"><iframe src=\"data:text/html;charset=utf-8;base64,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\" style=\"position:absolute;width:100%;height:100%;left:0;top:0;border:none !important;\" allowfullscreen webkitallowfullscreen mozallowfullscreen></iframe></div></div>"
            ],
            "text/plain": [
              "<folium.folium.Map at 0x7f7a1c81e8d0>"
            ]
          },
          "metadata": {
            "tags": []
          },
          "execution_count": 125
        }
      ]
    },
    {
      "cell_type": "code",
      "metadata": {
        "id": "hkyw5HCmkSYH",
        "colab_type": "code",
        "colab": {
          "base_uri": "https://localhost:8080/",
          "height": 632
        },
        "outputId": "bfdfcb67-249d-422f-d511-2fd050f5f8cd"
      },
      "source": [
        "df_top10_venues"
      ],
      "execution_count": 122,
      "outputs": [
        {
          "output_type": "execute_result",
          "data": {
            "text/html": [
              "<div>\n",
              "<style scoped>\n",
              "    .dataframe tbody tr th:only-of-type {\n",
              "        vertical-align: middle;\n",
              "    }\n",
              "\n",
              "    .dataframe tbody tr th {\n",
              "        vertical-align: top;\n",
              "    }\n",
              "\n",
              "    .dataframe thead th {\n",
              "        text-align: right;\n",
              "    }\n",
              "</style>\n",
              "<table border=\"1\" class=\"dataframe\">\n",
              "  <thead>\n",
              "    <tr style=\"text-align: right;\">\n",
              "      <th></th>\n",
              "      <th>id</th>\n",
              "      <th>score</th>\n",
              "      <th>category</th>\n",
              "      <th>name</th>\n",
              "      <th>address</th>\n",
              "      <th>postalcode</th>\n",
              "      <th>city</th>\n",
              "      <th>href</th>\n",
              "      <th>latitude</th>\n",
              "      <th>longitude</th>\n",
              "    </tr>\n",
              "  </thead>\n",
              "  <tbody>\n",
              "    <tr>\n",
              "      <th>0</th>\n",
              "      <td>412d2800f964a520df0c1fe3</td>\n",
              "      <td>9.7</td>\n",
              "      <td>Park</td>\n",
              "      <td>Central Park</td>\n",
              "      <td>59th St to 110th St</td>\n",
              "      <td>10028</td>\n",
              "      <td>New York</td>\n",
              "      <td>/v/central-park/412d2800f964a520df0c1fe3</td>\n",
              "      <td>40.784083</td>\n",
              "      <td>-73.964853</td>\n",
              "    </tr>\n",
              "    <tr>\n",
              "      <th>1</th>\n",
              "      <td>430d0a00f964a5203e271fe3</td>\n",
              "      <td>9.7</td>\n",
              "      <td>Park</td>\n",
              "      <td>Brooklyn Bridge Park</td>\n",
              "      <td>Main St</td>\n",
              "      <td>11201</td>\n",
              "      <td>Brooklyn</td>\n",
              "      <td>/v/brooklyn-bridge-park/430d0a00f964a5203e271fe3</td>\n",
              "      <td>40.702282</td>\n",
              "      <td>-73.996456</td>\n",
              "    </tr>\n",
              "    <tr>\n",
              "      <th>6</th>\n",
              "      <td>42377700f964a52024201fe3</td>\n",
              "      <td>9.6</td>\n",
              "      <td>Scenic Lookout</td>\n",
              "      <td>Brooklyn Heights Promenade</td>\n",
              "      <td>Columbia Heights</td>\n",
              "      <td>11201</td>\n",
              "      <td>Brooklyn</td>\n",
              "      <td>/v/brooklyn-heights-promenade/42377700f964a520...</td>\n",
              "      <td>40.698462</td>\n",
              "      <td>-73.996707</td>\n",
              "    </tr>\n",
              "    <tr>\n",
              "      <th>10</th>\n",
              "      <td>59580ce6db1d8148fee3d383</td>\n",
              "      <td>9.6</td>\n",
              "      <td>Tacos</td>\n",
              "      <td>Los Tacos No. 1</td>\n",
              "      <td>229 W 43rd St</td>\n",
              "      <td>10036</td>\n",
              "      <td>New York</td>\n",
              "      <td>/v/los-tacos-no-1/59580ce6db1d8148fee3d383</td>\n",
              "      <td>40.757134</td>\n",
              "      <td>-73.987536</td>\n",
              "    </tr>\n",
              "    <tr>\n",
              "      <th>9</th>\n",
              "      <td>4b240a1ff964a520b25f24e3</td>\n",
              "      <td>9.6</td>\n",
              "      <td>Park</td>\n",
              "      <td>Hudson River Park</td>\n",
              "      <td>West St</td>\n",
              "      <td>10011</td>\n",
              "      <td>New York</td>\n",
              "      <td>/v/hudson-river-park/4b240a1ff964a520b25f24e3</td>\n",
              "      <td>40.733487</td>\n",
              "      <td>-74.010506</td>\n",
              "    </tr>\n",
              "    <tr>\n",
              "      <th>7</th>\n",
              "      <td>3fd66200f964a520d7f11ee3</td>\n",
              "      <td>9.6</td>\n",
              "      <td>Park</td>\n",
              "      <td>Bryant Park</td>\n",
              "      <td>E 42nd St</td>\n",
              "      <td>10018</td>\n",
              "      <td>New York</td>\n",
              "      <td>/v/bryant-park/3fd66200f964a520d7f11ee3</td>\n",
              "      <td>40.753621</td>\n",
              "      <td>-73.983265</td>\n",
              "    </tr>\n",
              "    <tr>\n",
              "      <th>8</th>\n",
              "      <td>427c0500f964a52097211fe3</td>\n",
              "      <td>9.6</td>\n",
              "      <td>Art Museum</td>\n",
              "      <td>Metropolitan Museum of Art</td>\n",
              "      <td>1000 5th Ave</td>\n",
              "      <td>10028</td>\n",
              "      <td>New York</td>\n",
              "      <td>/v/the-metropolitan-museum-of-art/427c0500f964...</td>\n",
              "      <td>40.779729</td>\n",
              "      <td>-73.963416</td>\n",
              "    </tr>\n",
              "    <tr>\n",
              "      <th>5</th>\n",
              "      <td>43222200f964a5209c271fe3</td>\n",
              "      <td>9.6</td>\n",
              "      <td>State / Provincial Park</td>\n",
              "      <td>Gantry Plaza State Park</td>\n",
              "      <td>474 48th Ave</td>\n",
              "      <td>11109</td>\n",
              "      <td>Queens</td>\n",
              "      <td>/v/gantry-plaza-state-park/43222200f964a5209c2...</td>\n",
              "      <td>40.746558</td>\n",
              "      <td>-73.958051</td>\n",
              "    </tr>\n",
              "    <tr>\n",
              "      <th>4</th>\n",
              "      <td>4ed6adfce5fabbd89f617d4f</td>\n",
              "      <td>9.6</td>\n",
              "      <td>Trail</td>\n",
              "      <td>Hudson River Greenway Running Path</td>\n",
              "      <td>Hudson River Greenway</td>\n",
              "      <td>10282</td>\n",
              "      <td>New York</td>\n",
              "      <td>/v/hudson-river-greenway-running-path/4ed6adfc...</td>\n",
              "      <td>40.732552</td>\n",
              "      <td>-74.010580</td>\n",
              "    </tr>\n",
              "    <tr>\n",
              "      <th>3</th>\n",
              "      <td>4a468cd9f964a52015a91fe3</td>\n",
              "      <td>9.6</td>\n",
              "      <td>Field</td>\n",
              "      <td>Long Meadow</td>\n",
              "      <td>Prospect Park</td>\n",
              "      <td>11215</td>\n",
              "      <td>Brooklyn</td>\n",
              "      <td>/v/long-meadow/4a468cd9f964a52015a91fe3</td>\n",
              "      <td>40.668758</td>\n",
              "      <td>-73.970304</td>\n",
              "    </tr>\n",
              "  </tbody>\n",
              "</table>\n",
              "</div>"
            ],
            "text/plain": [
              "                          id score                 category  \\\n",
              "0   412d2800f964a520df0c1fe3   9.7                     Park   \n",
              "1   430d0a00f964a5203e271fe3   9.7                     Park   \n",
              "6   42377700f964a52024201fe3   9.6           Scenic Lookout   \n",
              "10  59580ce6db1d8148fee3d383   9.6                    Tacos   \n",
              "9   4b240a1ff964a520b25f24e3   9.6                     Park   \n",
              "7   3fd66200f964a520d7f11ee3   9.6                     Park   \n",
              "8   427c0500f964a52097211fe3   9.6               Art Museum   \n",
              "5   43222200f964a5209c271fe3   9.6  State / Provincial Park   \n",
              "4   4ed6adfce5fabbd89f617d4f   9.6                    Trail   \n",
              "3   4a468cd9f964a52015a91fe3   9.6                    Field   \n",
              "\n",
              "                                  name                address postalcode  \\\n",
              "0                         Central Park    59th St to 110th St      10028   \n",
              "1                 Brooklyn Bridge Park                Main St      11201   \n",
              "6           Brooklyn Heights Promenade       Columbia Heights      11201   \n",
              "10                     Los Tacos No. 1          229 W 43rd St      10036   \n",
              "9                    Hudson River Park                West St      10011   \n",
              "7                          Bryant Park              E 42nd St      10018   \n",
              "8           Metropolitan Museum of Art           1000 5th Ave      10028   \n",
              "5              Gantry Plaza State Park           474 48th Ave      11109   \n",
              "4   Hudson River Greenway Running Path  Hudson River Greenway      10282   \n",
              "3                          Long Meadow          Prospect Park      11215   \n",
              "\n",
              "        city                                               href   latitude  \\\n",
              "0   New York           /v/central-park/412d2800f964a520df0c1fe3  40.784083   \n",
              "1   Brooklyn   /v/brooklyn-bridge-park/430d0a00f964a5203e271fe3  40.702282   \n",
              "6   Brooklyn  /v/brooklyn-heights-promenade/42377700f964a520...  40.698462   \n",
              "10  New York         /v/los-tacos-no-1/59580ce6db1d8148fee3d383  40.757134   \n",
              "9   New York      /v/hudson-river-park/4b240a1ff964a520b25f24e3  40.733487   \n",
              "7   New York            /v/bryant-park/3fd66200f964a520d7f11ee3  40.753621   \n",
              "8   New York  /v/the-metropolitan-museum-of-art/427c0500f964...  40.779729   \n",
              "5     Queens  /v/gantry-plaza-state-park/43222200f964a5209c2...  40.746558   \n",
              "4   New York  /v/hudson-river-greenway-running-path/4ed6adfc...  40.732552   \n",
              "3   Brooklyn            /v/long-meadow/4a468cd9f964a52015a91fe3  40.668758   \n",
              "\n",
              "    longitude  \n",
              "0  -73.964853  \n",
              "1  -73.996456  \n",
              "6  -73.996707  \n",
              "10 -73.987536  \n",
              "9  -74.010506  \n",
              "7  -73.983265  \n",
              "8  -73.963416  \n",
              "5  -73.958051  \n",
              "4  -74.010580  \n",
              "3  -73.970304  "
            ]
          },
          "metadata": {
            "tags": []
          },
          "execution_count": 122
        }
      ]
    },
    {
      "cell_type": "markdown",
      "metadata": {
        "id": "uQDh6XOIv6SF",
        "colab_type": "text"
      },
      "source": [
        "## Second Venue to be analysed- Hudson River Park"
      ]
    },
    {
      "cell_type": "code",
      "metadata": {
        "id": "VbfMY0HlwR2v",
        "colab_type": "code",
        "colab": {}
      },
      "source": [
        "X=40.733487 #latitude of Hudson River Park\n",
        "Y=-74.010506 #longitude of Hudson River Park"
      ],
      "execution_count": 0,
      "outputs": []
    },
    {
      "cell_type": "code",
      "metadata": {
        "id": "LFyNt5-Vwd1Z",
        "colab_type": "code",
        "colab": {}
      },
      "source": [
        "dist=[]\n",
        "\n",
        "import geopy.distance\n",
        "\n",
        "c1=(X,Y)\n",
        "\n",
        "for clat, clong in zip(df_crimes.Latitude, df_crimes.Longitude):\n",
        "  c2=(clat, clong)\n",
        "  d= geopy.distance.vincenty(c1, c2).km\n",
        "  dist.append(d)"
      ],
      "execution_count": 0,
      "outputs": []
    },
    {
      "cell_type": "code",
      "metadata": {
        "id": "n09hCjIOwecK",
        "colab_type": "code",
        "colab": {
          "base_uri": "https://localhost:8080/",
          "height": 34
        },
        "outputId": "6ded60ac-2713-452d-c846-af30abd7fc85"
      },
      "source": [
        "#these are the number of crimes happening within 460 metres of Hudson River Park\n",
        "\n",
        "flag=0\n",
        "\n",
        "for c in dist:\n",
        "  if c<0.150:\n",
        "    flag=flag+1\n",
        "  \n",
        "print (flag)"
      ],
      "execution_count": 175,
      "outputs": [
        {
          "output_type": "stream",
          "text": [
            "911\n"
          ],
          "name": "stdout"
        }
      ]
    },
    {
      "cell_type": "code",
      "metadata": {
        "id": "oz8k6UTMxGA0",
        "colab_type": "code",
        "colab": {}
      },
      "source": [
        "df_crimes_venue = df_crimes.copy()\n",
        "df_crimes_venue['dist'] = dist  #new dataframe, containing a column having distance of each crime from Hudson River Park"
      ],
      "execution_count": 0,
      "outputs": []
    },
    {
      "cell_type": "code",
      "metadata": {
        "id": "EAEaOV3dxlKp",
        "colab_type": "code",
        "colab": {}
      },
      "source": [
        "#keep only data of those crimes that occur within 460m of Hudson River Park\n",
        "df_crimes_venue = df_crimes_venue[df_crimes_venue['dist'] <= 0.150]"
      ],
      "execution_count": 0,
      "outputs": []
    },
    {
      "cell_type": "code",
      "metadata": {
        "id": "bPnoDAZ_yM6h",
        "colab_type": "code",
        "colab": {}
      },
      "source": [
        "# Dataframe of the restaurants associated with Hudson River Park\n",
        "df_rest_venue = df_restaurant[df_restaurant.venue_name == 'Hudson River Park'].copy()\n",
        "\n",
        "# Sort restaurants on the basis of score\n",
        "df_rest_venue.sort_values('score', ascending=False, inplace=True)"
      ],
      "execution_count": 0,
      "outputs": []
    },
    {
      "cell_type": "markdown",
      "metadata": {
        "id": "0_IdsG6xyXfu",
        "colab_type": "text"
      },
      "source": [
        "### Heat Map of crimes around Hudson River Park, along with the top 10 restaurants around it"
      ]
    },
    {
      "cell_type": "code",
      "metadata": {
        "id": "kz2e7W1VyWtJ",
        "colab_type": "code",
        "colab": {
          "base_uri": "https://localhost:8080/",
          "height": 662
        },
        "outputId": "c4c19496-8249-4191-b30a-0232f6c33e6d"
      },
      "source": [
        "# create map focused on Central Park\n",
        "CP_heatmap = folium.Map(location=[X, Y], zoom_start=16, height=550, width=750) \n",
        "\n",
        "# make out list of latitudes and longitudes associated with the crimes occuring nearby\n",
        "heat_data = [[row['Latitude'], \n",
        "              row['Longitude']] for index, row in df_crimes_venue.iterrows()]\n",
        "\n",
        "\n",
        "\n",
        "# Plot crimes as a heatmap\n",
        "HeatMap(heat_data,\n",
        "        min_opacity=0.5,\n",
        "        max_zoom=18, \n",
        "        max_val=1.0, \n",
        "        radius=20,\n",
        "        blur=30,\n",
        "        gradient=None,\n",
        "        overlay=True).add_to(CP_heatmap)\n",
        "\n",
        "#Plot venue\n",
        "folium.Marker(\n",
        "    location=[X, Y],\n",
        "    popup='Hudson River Park',\n",
        "    icon=folium.Icon(color='red', icon='star')\n",
        ").add_to(CP_heatmap)\n",
        "\n",
        "# Plot the Top 10 Restaurants\n",
        "for row in df_rest_venue[:10].itertuples():\n",
        "    popup_text = '<h4>' + row.name + '</h4>'\n",
        "    popup_text = popup_text + '<h5>' + row.category + '</h5>'\n",
        "    popup_text = popup_text + '<b>Score: </b>' + str(row.score)\n",
        "    popup = folium.Popup(popup_text)\n",
        "    folium.Marker([row.latitude, row.longitude], \n",
        "                  popup=popup,\n",
        "                  icon=folium.Icon(color='blue', icon='thumbs-up')\n",
        "                 ).add_to(CP_heatmap)\n",
        "\n",
        "\n",
        "\n",
        "CP_heatmap"
      ],
      "execution_count": 180,
      "outputs": [
        {
          "output_type": "execute_result",
          "data": {
            "text/html": [
              "<div style=\"width:100%;\"><div style=\"position:relative;width:100%;height:0;padding-bottom:60%;\"><iframe src=\"data:text/html;charset=utf-8;base64,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\" style=\"position:absolute;width:100%;height:100%;left:0;top:0;border:none !important;\" allowfullscreen webkitallowfullscreen mozallowfullscreen></iframe></div></div>"
            ],
            "text/plain": [
              "<folium.folium.Map at 0x7f7a1c875a58>"
            ]
          },
          "metadata": {
            "tags": []
          },
          "execution_count": 180
        }
      ]
    },
    {
      "cell_type": "markdown",
      "metadata": {
        "id": "e7xuFTLR1StU",
        "colab_type": "text"
      },
      "source": [
        "# 6. Clustering\n",
        "\n",
        "### Finally, we use K-means clustering on the records of crimes of 2017, and cluster together crimes based on the location.\n",
        "\n",
        "This is done because in the heatmap as well as map with markers, about the crimes in NYC in 2017, we can clearly see three major segemtation of crimes, over the entire city, based on whether the location is in North NYC, South NYC, or Central NYC. We try to segment the crimes to these 3 clusters."
      ]
    },
    {
      "cell_type": "code",
      "metadata": {
        "id": "FfstFofpIRi1",
        "colab_type": "code",
        "colab": {}
      },
      "source": [
        "#two dataframes are used, one for mapping, and one for training the K-means algorithm\n",
        "\n",
        "lame=['CMPLNT_NUM', 'Latitude', 'Longitude', 'PD_DESC']\n",
        "\n",
        "df=pd.read_csv(\"NYC_crime.csv\", usecols= lame)\n",
        "\n",
        "game=['Latitude', 'Longitude']\n",
        "\n",
        "dfaq=pd.read_csv(\"NYC_crime.csv\", usecols= game)"
      ],
      "execution_count": 0,
      "outputs": []
    },
    {
      "cell_type": "code",
      "metadata": {
        "id": "3QZM4gaSc6Ib",
        "colab_type": "code",
        "colab": {
          "base_uri": "https://localhost:8080/",
          "height": 50
        },
        "outputId": "d26aee18-30f7-4cb2-d2c5-b32867a9a914"
      },
      "source": [
        "# set number of clusters\n",
        "kclusters = 3\n",
        "\n",
        "# run k-means clustering\n",
        "kmeans = KMeans(n_clusters=kclusters, random_state=0).fit(dfaq)\n",
        "\n",
        "# check cluster labels generated for each row in the dataframe\n",
        "kmeans.labels_ "
      ],
      "execution_count": 70,
      "outputs": [
        {
          "output_type": "execute_result",
          "data": {
            "text/plain": [
              "array([1, 0, 0, 1, 1, 2, 2, 1, 1, 2, 0, 2, 1, 1, 2, 0, 0, 2, 1, 0, 0, 0,\n",
              "       1, 0, 1, 1], dtype=int32)"
            ]
          },
          "metadata": {
            "tags": []
          },
          "execution_count": 70
        }
      ]
    },
    {
      "cell_type": "code",
      "metadata": {
        "id": "t3kspyTrfNOZ",
        "colab_type": "code",
        "colab": {}
      },
      "source": [
        "# add clustering labels\n",
        "df.insert(0, 'Cluster Labels', kmeans.labels_)"
      ],
      "execution_count": 0,
      "outputs": []
    },
    {
      "cell_type": "code",
      "metadata": {
        "id": "Xr27pfwuf9qo",
        "colab_type": "code",
        "colab": {}
      },
      "source": [
        "#add colors according to labels\n",
        "\n",
        "colors=['red','blue', 'green']\n",
        "dic=[]\n",
        "\n",
        "for i in kmeans.labels_:\n",
        "  dic.append(colors[i])\n",
        "  \n",
        "df['Colourm']=dic  "
      ],
      "execution_count": 0,
      "outputs": []
    },
    {
      "cell_type": "code",
      "metadata": {
        "id": "H0pwJSxVll2L",
        "colab_type": "code",
        "colab": {
          "base_uri": "https://localhost:8080/",
          "height": 662
        },
        "outputId": "4c4d299e-fafa-42ec-9173-528480cd8b10"
      },
      "source": [
        "#Map the dataframe\n",
        "\n",
        "address='New York City, NY'\n",
        "\n",
        "geolocator = Nominatim(user_agent=\"ny_explorer\")\n",
        "\n",
        "location= geolocator.geocode(address)\n",
        "latitude=location.latitude\n",
        "longitude= location.longitude\n",
        "\n",
        "\n",
        "NY_map7 = folium.Map(location=[latitude, longitude], zoom_start=11, width=850, height=600)\n",
        "\n",
        "for lat, lng, name, col in zip(df.Latitude, df.Longitude, df.PD_DESC, df.Colourm):\n",
        "  folium.Marker(\n",
        "    [lat,  lng],\n",
        "    popup=name,\n",
        "    icon=folium.Icon(color=col,icon='warning-sign'),\n",
        ").add_to(NY_map7)\n",
        "\n",
        "  \n",
        "NY_map7  "
      ],
      "execution_count": 73,
      "outputs": [
        {
          "output_type": "execute_result",
          "data": {
            "text/html": [
              "<div style=\"width:100%;\"><div style=\"position:relative;width:100%;height:0;padding-bottom:60%;\"><iframe src=\"data:text/html;charset=utf-8;base64,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\" style=\"position:absolute;width:100%;height:100%;left:0;top:0;border:none !important;\" allowfullscreen webkitallowfullscreen mozallowfullscreen></iframe></div></div>"
            ],
            "text/plain": [
              "<folium.folium.Map at 0x7fc95e4876a0>"
            ]
          },
          "metadata": {
            "tags": []
          },
          "execution_count": 73
        }
      ]
    },
    {
      "cell_type": "code",
      "metadata": {
        "id": "UKPZxIeHnExe",
        "colab_type": "code",
        "colab": {}
      },
      "source": [
        ""
      ],
      "execution_count": 0,
      "outputs": []
    }
  ]
}